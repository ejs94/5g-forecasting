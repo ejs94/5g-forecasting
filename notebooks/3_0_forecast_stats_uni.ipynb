{
 "cells": [
  {
   "cell_type": "code",
   "execution_count": null,
   "metadata": {},
   "outputs": [],
   "source": [
    "import os\n",
    "import warnings\n",
    "\n",
    "import matplotlib.pyplot as plt\n",
    "import pandas as pd\n",
    "from tqdm.auto import tqdm\n",
    "\n",
    "warnings.filterwarnings(\"ignore\")"
   ]
  },
  {
   "cell_type": "code",
   "execution_count": null,
   "metadata": {},
   "outputs": [],
   "source": [
    "from darts import TimeSeries\n",
    "from darts.models import (\n",
    "    ARIMA,\n",
    "    FFT,\n",
    "    AutoARIMA,\n",
    "    ExponentialSmoothing,\n",
    "    LinearRegressionModel,\n",
    "    NaiveDrift,\n",
    "    NaiveMean,\n",
    "    NaiveMovingAverage,\n",
    "    NaiveSeasonal,\n",
    "    Prophet,\n",
    "    Theta,\n",
    ")\n",
    "from darts.utils.statistics import (\n",
    "    check_seasonality,\n",
    "    stationarity_test_adf,\n",
    ")"
   ]
  },
  {
   "cell_type": "code",
   "execution_count": null,
   "metadata": {},
   "outputs": [],
   "source": [
    "import sys\n",
    "\n",
    "# Adicionar a pasta 'src' ao caminho do sistema\n",
    "sys.path.append(os.path.abspath(os.path.join(\"..\", \"src\")))\n",
    "\n",
    "# Agora você pode importar o módulo utils Ou importar funções específicas do módulo\n",
    "from metrics import (\n",
    "    calculate_grouped_statistics,\n",
    "    compare_series_metrics,\n",
    "    sliding_window_cross_validate_and_evaluate,\n",
    ")\n",
    "from ts_analysis import analyze_time_series\n",
    "from ts_plots import plot_forecast\n",
    "from utils import convert_dfs_to_ts, preprocess_list_ts"
   ]
  },
  {
   "cell_type": "markdown",
   "metadata": {},
   "source": [
    "# Params"
   ]
  },
  {
   "cell_type": "code",
   "execution_count": null,
   "metadata": {},
   "outputs": [],
   "source": [
    "H = 1  # Horizon\n",
    "K = 5 * H  # Rolling window"
   ]
  },
  {
   "cell_type": "markdown",
   "metadata": {},
   "source": [
    "# Univariate Models"
   ]
  },
  {
   "cell_type": "code",
   "execution_count": null,
   "metadata": {},
   "outputs": [],
   "source": [
    "target_columns = [\"RSRP\", \"RSRQ\", \"SNR\", \"CQI\", \"RSSI\"]"
   ]
  },
  {
   "cell_type": "code",
   "execution_count": null,
   "metadata": {},
   "outputs": [],
   "source": [
    "def simple_plot(df):\n",
    "    fig, ax = plt.subplots(5, 1)\n",
    "    df.plot(kind=\"line\", sharex=True, y=\"RSRP\", ax=ax[0])\n",
    "    df.plot(kind=\"line\", sharex=True, y=\"RSRQ\", ax=ax[1])\n",
    "    df.plot(kind=\"line\", sharex=True, y=\"SNR\", ax=ax[2])\n",
    "    df.plot(kind=\"line\", sharex=True, y=\"CQI\", ax=ax[3])\n",
    "    df.plot(kind=\"line\", sharex=True, y=\"RSSI\", ax=ax[4])"
   ]
  },
  {
   "cell_type": "markdown",
   "metadata": {},
   "source": [
    "## Static vs Mobile"
   ]
  },
  {
   "cell_type": "code",
   "execution_count": null,
   "metadata": {},
   "outputs": [],
   "source": [
    "checkpoints_path = os.path.join(os.pardir, \"checkpoints\")"
   ]
  },
  {
   "cell_type": "code",
   "execution_count": null,
   "metadata": {},
   "outputs": [],
   "source": [
    "df_static = pd.read_parquet(os.path.join(checkpoints_path, \"5G_df_static.parquet.gzip\"))"
   ]
  },
  {
   "cell_type": "code",
   "execution_count": null,
   "metadata": {},
   "outputs": [],
   "source": [
    "len(df_static.Uid.unique().tolist())"
   ]
  },
  {
   "cell_type": "code",
   "execution_count": null,
   "metadata": {},
   "outputs": [],
   "source": [
    "df_driving = pd.read_parquet(\n",
    "    os.path.join(checkpoints_path, \"5G_df_driving.parquet.gzip\")\n",
    ")"
   ]
  },
  {
   "cell_type": "code",
   "execution_count": null,
   "metadata": {},
   "outputs": [],
   "source": [
    "len(df_driving.Uid.unique().tolist())"
   ]
  },
  {
   "cell_type": "markdown",
   "metadata": {},
   "source": [
    "## Streaming vs. Downloading"
   ]
  },
  {
   "cell_type": "code",
   "execution_count": null,
   "metadata": {},
   "outputs": [],
   "source": [
    "list_static_strm = df_static.query(\"User_Activity == 'Streaming Video'\")\n",
    "list_driving_strm = df_driving.query(\"User_Activity == 'Streaming Video'\")\n",
    "list_static_down = df_static.query(\"User_Activity == 'Downloading a File'\")\n",
    "list_driving_down = df_driving.query(\"User_Activity == 'Downloading a File'\")"
   ]
  },
  {
   "cell_type": "markdown",
   "metadata": {},
   "source": [
    "## Traning per unique uid"
   ]
  },
  {
   "cell_type": "code",
   "execution_count": null,
   "metadata": {},
   "outputs": [],
   "source": [
    "def separe_for_uid(df, target_columns):\n",
    "    poll = []\n",
    "    uids = sorted(df.Uid.unique().tolist())\n",
    "    for uid in uids:\n",
    "        poll.append(df.query(f\"Uid == '{uid}'\")[target_columns].asfreq(freq=\"min\"))\n",
    "    return poll"
   ]
  },
  {
   "cell_type": "code",
   "execution_count": null,
   "metadata": {},
   "outputs": [],
   "source": [
    "list_static_strm = separe_for_uid(list_static_strm, target_columns)\n",
    "list_driving_strm = separe_for_uid(list_driving_strm, target_columns)\n",
    "list_static_down = separe_for_uid(list_static_down, target_columns)\n",
    "list_driving_down = separe_for_uid(list_driving_down, target_columns)"
   ]
  },
  {
   "cell_type": "code",
   "execution_count": null,
   "metadata": {},
   "outputs": [],
   "source": [
    "display(\n",
    "    len(list_static_strm),\n",
    "    len(list_driving_strm),\n",
    "    len(list_static_down),\n",
    "    len(list_driving_down),\n",
    ")"
   ]
  },
  {
   "cell_type": "code",
   "execution_count": null,
   "metadata": {},
   "outputs": [],
   "source": [
    "simple_plot(list_static_strm[4])"
   ]
  },
  {
   "cell_type": "markdown",
   "metadata": {},
   "source": [
    "Utils for univariate"
   ]
  },
  {
   "cell_type": "code",
   "execution_count": null,
   "metadata": {},
   "outputs": [],
   "source": [
    "def collect_univariate_metrics(list_series, model_name, model, output_file, K=5, H=1):\n",
    "    _path = os.path.join(checkpoints_path, \"results\", output_file)\n",
    "    result_record = []\n",
    "    list_transformed = preprocess_list_ts(list_series)\n",
    "    for i, series in enumerate(list_transformed):\n",
    "        for kpi in target_columns:\n",
    "            try:\n",
    "                results = sliding_window_cross_validate_and_evaluate(\n",
    "                    model, series[kpi], K, H, model_name\n",
    "                )\n",
    "                results[\"target\"] = kpi\n",
    "                result_record.append(results)\n",
    "\n",
    "            except Exception as e:\n",
    "                print(f\"Erro ao processar a serie {i} com {kpi}\")\n",
    "                continue\n",
    "\n",
    "    result_record = pd.DataFrame(result_record)\n",
    "    result_record.to_csv(_path)\n",
    "    print(f\"Saved in {_path}\")\n",
    "    return result_record"
   ]
  },
  {
   "cell_type": "markdown",
   "metadata": {},
   "source": [
    "All list of series for training"
   ]
  },
  {
   "cell_type": "code",
   "execution_count": null,
   "metadata": {},
   "outputs": [],
   "source": [
    "list_static_strm = convert_dfs_to_ts(list_static_strm, target_columns)\n",
    "list_driving_strm = convert_dfs_to_ts(list_driving_strm, target_columns)\n",
    "list_static_down = convert_dfs_to_ts(list_static_down, target_columns)\n",
    "list_driving_down = convert_dfs_to_ts(list_driving_down, target_columns)"
   ]
  },
  {
   "cell_type": "markdown",
   "metadata": {},
   "source": [
    "# Baseline Forecast"
   ]
  },
  {
   "cell_type": "code",
   "execution_count": null,
   "metadata": {},
   "outputs": [],
   "source": [
    "all_stats = []"
   ]
  },
  {
   "cell_type": "markdown",
   "metadata": {},
   "source": [
    "---"
   ]
  },
  {
   "cell_type": "markdown",
   "metadata": {},
   "source": [
    "# Naive Forecast"
   ]
  },
  {
   "cell_type": "code",
   "execution_count": null,
   "metadata": {},
   "outputs": [],
   "source": [
    "model_name = \"Naive\"\n",
    "naive_model = NaiveSeasonal(K=1)"
   ]
  },
  {
   "cell_type": "markdown",
   "metadata": {},
   "source": [
    "Static Streaming"
   ]
  },
  {
   "cell_type": "code",
   "execution_count": null,
   "metadata": {},
   "outputs": [],
   "source": [
    "activity = \"static_strm\"\n",
    "output_file = f\"uni_{model_name}_{activity}.csv\"\n",
    "\n",
    "\n",
    "result = collect_univariate_metrics(\n",
    "    list_static_strm, model_name, naive_model, output_file, K, H\n",
    ")\n",
    "\n",
    "metrics = compare_series_metrics(result)\n",
    "stats = calculate_grouped_statistics(metrics)\n",
    "stats[\"Activity\"] = activity\n",
    "all_stats.append(stats)\n",
    "display(stats)"
   ]
  },
  {
   "cell_type": "markdown",
   "metadata": {},
   "source": [
    "Driving Streaming"
   ]
  },
  {
   "cell_type": "code",
   "execution_count": null,
   "metadata": {},
   "outputs": [],
   "source": [
    "activity = \"driving_strm\"\n",
    "output_file = f\"uni_{model_name}_{activity}.csv\"\n",
    "\n",
    "\n",
    "result = collect_univariate_metrics(\n",
    "    list_driving_strm, model_name, naive_model, output_file, K, H\n",
    ")\n",
    "\n",
    "metrics = compare_series_metrics(result)\n",
    "stats = calculate_grouped_statistics(metrics)\n",
    "stats[\"Activity\"] = activity\n",
    "all_stats.append(stats)\n",
    "display(stats)"
   ]
  },
  {
   "cell_type": "markdown",
   "metadata": {},
   "source": [
    "Static Downloading"
   ]
  },
  {
   "cell_type": "code",
   "execution_count": null,
   "metadata": {},
   "outputs": [],
   "source": [
    "activity = \"static_down\"\n",
    "output_file = f\"uni_{model_name}_{activity}.csv\"\n",
    "\n",
    "\n",
    "result = collect_univariate_metrics(\n",
    "    list_static_down, model_name, naive_model, output_file, K, H\n",
    ")\n",
    "\n",
    "metrics = compare_series_metrics(result)\n",
    "stats = calculate_grouped_statistics(metrics)\n",
    "stats[\"Activity\"] = activity\n",
    "all_stats.append(stats)\n",
    "display(stats)"
   ]
  },
  {
   "cell_type": "markdown",
   "metadata": {},
   "source": [
    "Driving Downloading"
   ]
  },
  {
   "cell_type": "code",
   "execution_count": null,
   "metadata": {},
   "outputs": [],
   "source": [
    "activity = \"driving_down\"\n",
    "output_file = f\"uni_{model_name}_{activity}.csv\"\n",
    "\n",
    "\n",
    "result = collect_univariate_metrics(\n",
    "    list_driving_down, model_name, naive_model, output_file, K, H\n",
    ")\n",
    "\n",
    "\n",
    "metrics = compare_series_metrics(result)\n",
    "stats = calculate_grouped_statistics(metrics)\n",
    "stats[\"Activity\"] = activity\n",
    "all_stats.append(stats)\n",
    "display(stats)"
   ]
  },
  {
   "cell_type": "code",
   "execution_count": null,
   "metadata": {},
   "outputs": [],
   "source": [
    "pd.concat(all_stats).reset_index().set_index([\"Model\", \"target\", \"Activity\"])"
   ]
  },
  {
   "cell_type": "markdown",
   "metadata": {},
   "source": [
    "---"
   ]
  },
  {
   "cell_type": "markdown",
   "metadata": {},
   "source": [
    "# Naive Drift"
   ]
  },
  {
   "cell_type": "code",
   "execution_count": null,
   "metadata": {},
   "outputs": [],
   "source": [
    "model_name = \"NaiveDrift\"\n",
    "naive_drift_model = NaiveDrift()"
   ]
  },
  {
   "cell_type": "code",
   "execution_count": null,
   "metadata": {},
   "outputs": [],
   "source": [
    "# Static Streaming\n",
    "output_file = f\"{model_name}_uni_static_strm.csv\"\n",
    "collect_univariate_metrics(\n",
    "    list_static_strm, model_name, naive_drift_model, output_file, K, H\n",
    ")"
   ]
  },
  {
   "cell_type": "code",
   "execution_count": null,
   "metadata": {},
   "outputs": [],
   "source": [
    "# Driving Streaming\n",
    "output_file = f\"{model_name}_uni_driving_strm.csv\"\n",
    "collect_univariate_metrics(\n",
    "    list_driving_strm, model_name, naive_drift_model, output_file, K, H\n",
    ")"
   ]
  },
  {
   "cell_type": "code",
   "execution_count": null,
   "metadata": {},
   "outputs": [],
   "source": [
    "# Static Downloading\n",
    "output_file = f\"{model_name}_uni_static_down.csv\"\n",
    "collect_univariate_metrics(\n",
    "    list_static_down, model_name, naive_drift_model, output_file, K, H\n",
    ")"
   ]
  },
  {
   "cell_type": "code",
   "execution_count": null,
   "metadata": {},
   "outputs": [],
   "source": [
    "# Driving Downloading\n",
    "output_file = f\"{model_name}_uni_driving_down.csv\"\n",
    "collect_univariate_metrics(\n",
    "    list_driving_down, model_name, naive_drift_model, output_file, K, H\n",
    ")"
   ]
  },
  {
   "cell_type": "markdown",
   "metadata": {},
   "source": [
    "# Naive Moving Average"
   ]
  },
  {
   "cell_type": "code",
   "execution_count": null,
   "metadata": {},
   "outputs": [],
   "source": [
    "model_name = \"NaiveMovingAverage\"\n",
    "naive_ma_model = NaiveMovingAverage(input_chunk_length=K)"
   ]
  },
  {
   "cell_type": "code",
   "execution_count": null,
   "metadata": {},
   "outputs": [],
   "source": [
    "# Static Streaming\n",
    "output_file = f\"{model_name}_uni_static_strm.csv\"\n",
    "collect_univariate_metrics(\n",
    "    list_static_strm, model_name, naive_ma_model, output_file, K, H\n",
    ")"
   ]
  },
  {
   "cell_type": "code",
   "execution_count": null,
   "metadata": {},
   "outputs": [],
   "source": [
    "# Driving Streaming\n",
    "output_file = f\"{model_name}_uni_driving_strm.csv\"\n",
    "collect_univariate_metrics(\n",
    "    list_driving_strm, model_name, naive_ma_model, output_file, K, H\n",
    ")"
   ]
  },
  {
   "cell_type": "code",
   "execution_count": null,
   "metadata": {},
   "outputs": [],
   "source": [
    "# Static Downloading\n",
    "output_file = f\"{model_name}_uni_static_down.csv\"\n",
    "collect_univariate_metrics(\n",
    "    list_static_down, model_name, naive_ma_model, output_file, K, H\n",
    ")"
   ]
  },
  {
   "cell_type": "code",
   "execution_count": null,
   "metadata": {},
   "outputs": [],
   "source": [
    "# Driving Downloading\n",
    "output_file = f\"{model_name}_uni_driving_down.csv\"\n",
    "collect_univariate_metrics(\n",
    "    list_driving_down, model_name, naive_ma_model, output_file, K, H\n",
    ")"
   ]
  },
  {
   "cell_type": "markdown",
   "metadata": {},
   "source": [
    "# Naive Mean"
   ]
  },
  {
   "cell_type": "code",
   "execution_count": null,
   "metadata": {},
   "outputs": [],
   "source": [
    "model_name = \"NaiveMean\"\n",
    "naive_mean_model = NaiveMean()"
   ]
  },
  {
   "cell_type": "code",
   "execution_count": null,
   "metadata": {},
   "outputs": [],
   "source": [
    "# Static Streaming\n",
    "output_file = f\"{model_name}_uni_static_strm.csv\"\n",
    "collect_univariate_metrics(\n",
    "    list_static_strm, model_name, naive_mean_model, output_file, K, H\n",
    ")"
   ]
  },
  {
   "cell_type": "code",
   "execution_count": null,
   "metadata": {},
   "outputs": [],
   "source": [
    "# Driving Streaming\n",
    "output_file = f\"{model_name}_uni_driving_strm.csv\"\n",
    "collect_univariate_metrics(\n",
    "    list_driving_strm, model_name, naive_mean_model, output_file, K, H\n",
    ")"
   ]
  },
  {
   "cell_type": "code",
   "execution_count": null,
   "metadata": {},
   "outputs": [],
   "source": [
    "# Static Downloading\n",
    "output_file = f\"{model_name}_uni_static_down.csv\"\n",
    "collect_univariate_metrics(\n",
    "    list_static_down, model_name, naive_mean_model, output_file, K, H\n",
    ")"
   ]
  },
  {
   "cell_type": "code",
   "execution_count": null,
   "metadata": {},
   "outputs": [],
   "source": [
    "# Driving Downloading\n",
    "output_file = f\"{model_name}_uni_driving_down.csv\"\n",
    "collect_univariate_metrics(\n",
    "    list_driving_down, model_name, naive_mean_model, output_file, K, H\n",
    ")"
   ]
  },
  {
   "cell_type": "markdown",
   "metadata": {},
   "source": [
    "# Statistical / Classic Models\n",
    "---"
   ]
  },
  {
   "cell_type": "markdown",
   "metadata": {},
   "source": [
    "# Exponential Smoothing"
   ]
  },
  {
   "cell_type": "code",
   "execution_count": null,
   "metadata": {},
   "outputs": [],
   "source": [
    "model_name = \"ExponentialSmoothing\"\n",
    "ets_model = ExponentialSmoothing()"
   ]
  },
  {
   "cell_type": "code",
   "execution_count": null,
   "metadata": {},
   "outputs": [],
   "source": [
    "# Static Streaming\n",
    "output_file = f\"{model_name}_uni_static_strm.csv\"\n",
    "collect_univariate_metrics(list_static_strm, model_name, ets_model, output_file, K, H)"
   ]
  },
  {
   "cell_type": "code",
   "execution_count": null,
   "metadata": {},
   "outputs": [],
   "source": [
    "# Driving Streaming\n",
    "output_file = f\"{model_name}_uni_driving_strm.csv\"\n",
    "collect_univariate_metrics(list_driving_strm, model_name, ets_model, output_file, K, H)"
   ]
  },
  {
   "cell_type": "code",
   "execution_count": null,
   "metadata": {},
   "outputs": [],
   "source": [
    "# Static Downloading\n",
    "output_file = f\"{model_name}_uni_static_down.csv\"\n",
    "collect_univariate_metrics(list_static_down, model_name, ets_model, output_file, K, H)"
   ]
  },
  {
   "cell_type": "code",
   "execution_count": null,
   "metadata": {},
   "outputs": [],
   "source": [
    "# Driving Downloading\n",
    "output_file = f\"{model_name}_uni_driving_down.csv\"\n",
    "collect_univariate_metrics(list_driving_down, model_name, ets_model, output_file, K, H)"
   ]
  },
  {
   "cell_type": "markdown",
   "metadata": {},
   "source": [
    "# Linear Regression"
   ]
  },
  {
   "cell_type": "code",
   "execution_count": null,
   "metadata": {},
   "outputs": [],
   "source": [
    "model_name = \"LinearRegression\"\n",
    "linear_regression_model = LinearRegressionModel(lags=K - 1)"
   ]
  },
  {
   "cell_type": "code",
   "execution_count": null,
   "metadata": {},
   "outputs": [],
   "source": [
    "# Static Streaming\n",
    "output_file = f\"{model_name}_uni_static_strm.csv\"\n",
    "collect_univariate_metrics(\n",
    "    list_static_strm, model_name, linear_regression_model, output_file, K, H\n",
    ")"
   ]
  },
  {
   "cell_type": "code",
   "execution_count": null,
   "metadata": {},
   "outputs": [],
   "source": [
    "# Driving Streaming\n",
    "output_file = f\"{model_name}_uni_driving_strm.csv\"\n",
    "collect_univariate_metrics(\n",
    "    list_driving_strm, model_name, linear_regression_model, output_file, K, H\n",
    ")"
   ]
  },
  {
   "cell_type": "code",
   "execution_count": null,
   "metadata": {},
   "outputs": [],
   "source": [
    "# Static Downloading\n",
    "output_file = f\"{model_name}_uni_static_down.csv\"\n",
    "collect_univariate_metrics(\n",
    "    list_static_down, model_name, linear_regression_model, output_file, K, H\n",
    ")"
   ]
  },
  {
   "cell_type": "code",
   "execution_count": null,
   "metadata": {},
   "outputs": [],
   "source": [
    "# Driving Downloading\n",
    "output_file = f\"{model_name}_uni_driving_down.csv\"\n",
    "collect_univariate_metrics(\n",
    "    list_driving_down, model_name, linear_regression_model, output_file, K, H\n",
    ")"
   ]
  },
  {
   "cell_type": "markdown",
   "metadata": {},
   "source": [
    "# ARIMA"
   ]
  },
  {
   "cell_type": "code",
   "execution_count": null,
   "metadata": {},
   "outputs": [],
   "source": [
    "model_name = \"ARIMA\"\n",
    "arima_model = ARIMA(p=K - 1, d=1, q=2)"
   ]
  },
  {
   "cell_type": "code",
   "execution_count": null,
   "metadata": {},
   "outputs": [],
   "source": [
    "# Static Streaming\n",
    "output_file = f\"{model_name}_uni_static_strm.csv\"\n",
    "collect_univariate_metrics(\n",
    "    list_static_strm, model_name, arima_model, output_file, K=30, H=10\n",
    ")"
   ]
  },
  {
   "cell_type": "code",
   "execution_count": null,
   "metadata": {},
   "outputs": [],
   "source": [
    "# Driving Streaming\n",
    "output_file = f\"{model_name}_uni_driving_strm.csv\"\n",
    "collect_univariate_metrics(\n",
    "    list_driving_strm, model_name, arima_model, output_file, K=30, H=10\n",
    ")"
   ]
  },
  {
   "cell_type": "code",
   "execution_count": null,
   "metadata": {},
   "outputs": [],
   "source": [
    "# Static Downloading\n",
    "output_file = f\"{model_name}_uni_static_down.csv\"\n",
    "collect_univariate_metrics(\n",
    "    list_static_down, model_name, arima_model, output_file, K=30, H=10\n",
    ")"
   ]
  },
  {
   "cell_type": "code",
   "execution_count": null,
   "metadata": {},
   "outputs": [],
   "source": [
    "# Driving Downloading\n",
    "output_file = f\"{model_name}_uni_driving_down.csv\"\n",
    "collect_univariate_metrics(\n",
    "    list_driving_down, model_name, arima_model, output_file, K=30, H=10\n",
    ")"
   ]
  },
  {
   "cell_type": "markdown",
   "metadata": {},
   "source": [
    "# Theta"
   ]
  },
  {
   "cell_type": "code",
   "execution_count": null,
   "metadata": {},
   "outputs": [],
   "source": [
    "model_name = \"Theta\"\n",
    "theta_model = Theta(theta=1.5)"
   ]
  },
  {
   "cell_type": "code",
   "execution_count": null,
   "metadata": {},
   "outputs": [],
   "source": [
    "# Static Streaming\n",
    "output_file = f\"{model_name}_uni_static_strm.csv\"\n",
    "collect_univariate_metrics(\n",
    "    list_static_strm, model_name, theta_model, output_file, K, H\n",
    ").style.highlight_min()"
   ]
  },
  {
   "cell_type": "code",
   "execution_count": null,
   "metadata": {},
   "outputs": [],
   "source": [
    "# Driving Streaming\n",
    "output_file = f\"{model_name}_uni_driving_strm.csv\"\n",
    "collect_univariate_metrics(\n",
    "    list_driving_strm, model_name, theta_model, output_file, K, H\n",
    ").style.highlight_min()"
   ]
  },
  {
   "cell_type": "code",
   "execution_count": null,
   "metadata": {},
   "outputs": [],
   "source": [
    "# Static Downloading\n",
    "output_file = f\"{model_name}_uni_static_down.csv\"\n",
    "collect_univariate_metrics(\n",
    "    list_static_down, model_name, theta_model, output_file, K, H\n",
    ").style.highlight_min()"
   ]
  },
  {
   "cell_type": "code",
   "execution_count": null,
   "metadata": {},
   "outputs": [],
   "source": [
    "# Driving Downloading\n",
    "output_file = f\"{model_name}_uni_driving_down.csv\"\n",
    "collect_univariate_metrics(\n",
    "    list_driving_down, model_name, theta_model, output_file, K=30, H=10\n",
    ").style.highlight_min()"
   ]
  },
  {
   "cell_type": "markdown",
   "metadata": {},
   "source": [
    "# FFT"
   ]
  },
  {
   "cell_type": "code",
   "execution_count": null,
   "metadata": {},
   "outputs": [],
   "source": [
    "model_name = \"FFT\"\n",
    "fft_model = FFT()"
   ]
  },
  {
   "cell_type": "code",
   "execution_count": null,
   "metadata": {},
   "outputs": [],
   "source": [
    "# Static Streaming\n",
    "output_file = f\"{model_name}_uni_static_strm.csv\"\n",
    "collect_univariate_metrics(list_static_strm, model_name, fft_model, output_file, K, H)"
   ]
  },
  {
   "cell_type": "code",
   "execution_count": null,
   "metadata": {},
   "outputs": [],
   "source": [
    "# Driving Streaming\n",
    "output_file = f\"{model_name}_uni_driving_strm.csv\"\n",
    "collect_univariate_metrics(list_driving_strm, model_name, fft_model, output_file, K, H)"
   ]
  },
  {
   "cell_type": "code",
   "execution_count": null,
   "metadata": {},
   "outputs": [],
   "source": [
    "# Static Downloading\n",
    "output_file = f\"{model_name}_uni_static_down.csv\"\n",
    "collect_univariate_metrics(list_static_down, model_name, fft_model, output_file, K, H)"
   ]
  },
  {
   "cell_type": "code",
   "execution_count": null,
   "metadata": {},
   "outputs": [],
   "source": [
    "# Driving Downloading\n",
    "output_file = f\"{model_name}_uni_driving_down.csv\"\n",
    "collect_univariate_metrics(\n",
    "    list_driving_down, model_name, fft_model, output_file, K=30, H=10\n",
    ")"
   ]
  },
  {
   "cell_type": "markdown",
   "metadata": {},
   "source": [
    "# Machine Learning"
   ]
  },
  {
   "cell_type": "markdown",
   "metadata": {},
   "source": [
    "---"
   ]
  },
  {
   "cell_type": "markdown",
   "metadata": {},
   "source": [
    "# Prophet"
   ]
  },
  {
   "cell_type": "code",
   "execution_count": null,
   "metadata": {},
   "outputs": [],
   "source": [
    "model_name = \"Prophet\"\n",
    "prophet_model = Prophet()"
   ]
  },
  {
   "cell_type": "code",
   "execution_count": null,
   "metadata": {},
   "outputs": [],
   "source": [
    "# Static Streaming\n",
    "output_file = f\"{model_name}_uni_static_strm.csv\"\n",
    "collect_univariate_metrics(\n",
    "    list_static_strm, model_name, prophet_model, output_file, K, H\n",
    ")"
   ]
  },
  {
   "cell_type": "code",
   "execution_count": null,
   "metadata": {},
   "outputs": [],
   "source": [
    "# Driving Streaming\n",
    "output_file = f\"{model_name}_uni_driving_strm.csv\"\n",
    "collect_univariate_metrics(\n",
    "    list_driving_strm, model_name, prophet_model, output_file, K, H\n",
    ")"
   ]
  },
  {
   "cell_type": "code",
   "execution_count": null,
   "metadata": {},
   "outputs": [],
   "source": [
    "# Static Downloading\n",
    "output_file = f\"{model_name}_uni_static_down.csv\"\n",
    "collect_univariate_metrics(\n",
    "    list_static_down, model_name, prophet_model, output_file, K, H\n",
    ")"
   ]
  },
  {
   "cell_type": "code",
   "execution_count": null,
   "metadata": {},
   "outputs": [],
   "source": [
    "# Driving Downloading\n",
    "output_file = f\"{model_name}_uni_driving_down.csv\"\n",
    "collect_univariate_metrics(\n",
    "    list_driving_down, model_name, prophet_model, output_file, K=30, H=10\n",
    ")"
   ]
  }
 ],
 "metadata": {
  "kernelspec": {
   "display_name": "n_beats",
   "language": "python",
   "name": "python3"
  },
  "language_info": {
   "codemirror_mode": {
    "name": "ipython",
    "version": 3
   },
   "file_extension": ".py",
   "mimetype": "text/x-python",
   "name": "python",
   "nbconvert_exporter": "python",
   "pygments_lexer": "ipython3",
   "version": "3.10.14"
  }
 },
 "nbformat": 4,
 "nbformat_minor": 2
}
