{
 "cells": [
  {
   "cell_type": "markdown",
   "metadata": {},
   "source": [
    "Verificar como fazer download do dataset do github e exluir arquivos que não são importantes, por fim, será necessário salvar os arquivos em um repo tipo o huggingface"
   ]
  },
  {
   "cell_type": "code",
   "execution_count": 135,
   "metadata": {},
   "outputs": [],
   "source": [
    "import os\n",
    "import glob\n",
    "import pandas as pd\n",
    "import numpy as np"
   ]
  },
  {
   "cell_type": "code",
   "execution_count": 136,
   "metadata": {},
   "outputs": [],
   "source": [
    "path = os.path.join(os.pardir, \"datasets\", \"5G-production-dataset\")\n"
   ]
  },
  {
   "cell_type": "code",
   "execution_count": 137,
   "metadata": {},
   "outputs": [],
   "source": [
    "files = glob.glob(path + \"/**/*.csv\", recursive=True)"
   ]
  },
  {
   "cell_type": "code",
   "execution_count": 138,
   "metadata": {},
   "outputs": [],
   "source": [
    "listdf = []\n",
    "for i, file in enumerate(files):\n",
    "  file = file.replace(\"\\\\\",\"/\")\n",
    "  df = pd.read_csv(file)\n",
    "  folders_name = file.split('/')[3:-1]\n",
    "\n",
    "  # It will identify if the user is static or moving.\n",
    "  df[\"Mobility_Pattern\"] = folders_name[1]\n",
    "  folders_name.pop(1)\n",
    "\n",
    "  # It will identify if the user is downloading or watching some streaming.\n",
    "  df[\"User_Activity\"] = ' '.join(folders_name)\n",
    "\n",
    "  # It will identify if the user is downloading or watching some streaming.\n",
    "  df[\"Log_Number\"] = i\n",
    "\n",
    "  listdf.append(df)\n",
    "\n",
    "del df"
   ]
  },
  {
   "cell_type": "code",
   "execution_count": 139,
   "metadata": {},
   "outputs": [],
   "source": [
    "df = pd.concat(listdf, axis=0, ignore_index=True)"
   ]
  },
  {
   "cell_type": "code",
   "execution_count": 140,
   "metadata": {},
   "outputs": [
    {
     "data": {
      "text/html": [
       "<div>\n",
       "<style scoped>\n",
       "    .dataframe tbody tr th:only-of-type {\n",
       "        vertical-align: middle;\n",
       "    }\n",
       "\n",
       "    .dataframe tbody tr th {\n",
       "        vertical-align: top;\n",
       "    }\n",
       "\n",
       "    .dataframe thead th {\n",
       "        text-align: right;\n",
       "    }\n",
       "</style>\n",
       "<table border=\"1\" class=\"dataframe\">\n",
       "  <thead>\n",
       "    <tr style=\"text-align: right;\">\n",
       "      <th></th>\n",
       "      <th>Timestamp</th>\n",
       "      <th>Longitude</th>\n",
       "      <th>Latitude</th>\n",
       "      <th>Speed</th>\n",
       "      <th>Operatorname</th>\n",
       "      <th>CellID</th>\n",
       "      <th>NetworkMode</th>\n",
       "      <th>RSRP</th>\n",
       "      <th>RSRQ</th>\n",
       "      <th>SNR</th>\n",
       "      <th>...</th>\n",
       "      <th>PINGLOSS</th>\n",
       "      <th>CELLHEX</th>\n",
       "      <th>NODEHEX</th>\n",
       "      <th>LACHEX</th>\n",
       "      <th>RAWCELLID</th>\n",
       "      <th>NRxRSRP</th>\n",
       "      <th>NRxRSRQ</th>\n",
       "      <th>Mobility_Pattern</th>\n",
       "      <th>User_Activity</th>\n",
       "      <th>Log_Number</th>\n",
       "    </tr>\n",
       "  </thead>\n",
       "  <tbody>\n",
       "    <tr>\n",
       "      <th>0</th>\n",
       "      <td>2019.11.28_07.27.57</td>\n",
       "      <td>-8.388193</td>\n",
       "      <td>51.935608</td>\n",
       "      <td>0</td>\n",
       "      <td>B</td>\n",
       "      <td>12</td>\n",
       "      <td>5G</td>\n",
       "      <td>-102</td>\n",
       "      <td>-10</td>\n",
       "      <td>8.0</td>\n",
       "      <td>...</td>\n",
       "      <td>-</td>\n",
       "      <td>C</td>\n",
       "      <td>A81B</td>\n",
       "      <td>9CBA</td>\n",
       "      <td>11016972</td>\n",
       "      <td>-102.0</td>\n",
       "      <td>-1.0</td>\n",
       "      <td>Driving</td>\n",
       "      <td>Amazon_Prime animated-AdventureTime</td>\n",
       "      <td>0</td>\n",
       "    </tr>\n",
       "    <tr>\n",
       "      <th>1</th>\n",
       "      <td>2019.11.28_07.27.57</td>\n",
       "      <td>-8.388269</td>\n",
       "      <td>51.935542</td>\n",
       "      <td>1</td>\n",
       "      <td>B</td>\n",
       "      <td>12</td>\n",
       "      <td>5G</td>\n",
       "      <td>-102</td>\n",
       "      <td>-10</td>\n",
       "      <td>8.0</td>\n",
       "      <td>...</td>\n",
       "      <td>-</td>\n",
       "      <td>C</td>\n",
       "      <td>A81B</td>\n",
       "      <td>9CBA</td>\n",
       "      <td>11016972</td>\n",
       "      <td>-102.0</td>\n",
       "      <td>-1.0</td>\n",
       "      <td>Driving</td>\n",
       "      <td>Amazon_Prime animated-AdventureTime</td>\n",
       "      <td>0</td>\n",
       "    </tr>\n",
       "    <tr>\n",
       "      <th>2</th>\n",
       "      <td>2019.11.28_07.27.58</td>\n",
       "      <td>-8.388269</td>\n",
       "      <td>51.935542</td>\n",
       "      <td>1</td>\n",
       "      <td>B</td>\n",
       "      <td>12</td>\n",
       "      <td>5G</td>\n",
       "      <td>-102</td>\n",
       "      <td>-10</td>\n",
       "      <td>8.0</td>\n",
       "      <td>...</td>\n",
       "      <td>-</td>\n",
       "      <td>C</td>\n",
       "      <td>A81B</td>\n",
       "      <td>9CBA</td>\n",
       "      <td>11016972</td>\n",
       "      <td>-102.0</td>\n",
       "      <td>-1.0</td>\n",
       "      <td>Driving</td>\n",
       "      <td>Amazon_Prime animated-AdventureTime</td>\n",
       "      <td>0</td>\n",
       "    </tr>\n",
       "    <tr>\n",
       "      <th>3</th>\n",
       "      <td>2019.11.28_07.27.59</td>\n",
       "      <td>-8.388269</td>\n",
       "      <td>51.935542</td>\n",
       "      <td>1</td>\n",
       "      <td>B</td>\n",
       "      <td>12</td>\n",
       "      <td>5G</td>\n",
       "      <td>-102</td>\n",
       "      <td>-10</td>\n",
       "      <td>3.0</td>\n",
       "      <td>...</td>\n",
       "      <td>-</td>\n",
       "      <td>C</td>\n",
       "      <td>A81B</td>\n",
       "      <td>9CBA</td>\n",
       "      <td>11016972</td>\n",
       "      <td>-101.0</td>\n",
       "      <td>-3.0</td>\n",
       "      <td>Driving</td>\n",
       "      <td>Amazon_Prime animated-AdventureTime</td>\n",
       "      <td>0</td>\n",
       "    </tr>\n",
       "    <tr>\n",
       "      <th>4</th>\n",
       "      <td>2019.11.28_07.28.00</td>\n",
       "      <td>-8.388269</td>\n",
       "      <td>51.935542</td>\n",
       "      <td>1</td>\n",
       "      <td>B</td>\n",
       "      <td>12</td>\n",
       "      <td>5G</td>\n",
       "      <td>-102</td>\n",
       "      <td>-10</td>\n",
       "      <td>3.0</td>\n",
       "      <td>...</td>\n",
       "      <td>-</td>\n",
       "      <td>C</td>\n",
       "      <td>A81B</td>\n",
       "      <td>9CBA</td>\n",
       "      <td>11016972</td>\n",
       "      <td>-101.0</td>\n",
       "      <td>-3.0</td>\n",
       "      <td>Driving</td>\n",
       "      <td>Amazon_Prime animated-AdventureTime</td>\n",
       "      <td>0</td>\n",
       "    </tr>\n",
       "    <tr>\n",
       "      <th>...</th>\n",
       "      <td>...</td>\n",
       "      <td>...</td>\n",
       "      <td>...</td>\n",
       "      <td>...</td>\n",
       "      <td>...</td>\n",
       "      <td>...</td>\n",
       "      <td>...</td>\n",
       "      <td>...</td>\n",
       "      <td>...</td>\n",
       "      <td>...</td>\n",
       "      <td>...</td>\n",
       "      <td>...</td>\n",
       "      <td>...</td>\n",
       "      <td>...</td>\n",
       "      <td>...</td>\n",
       "      <td>...</td>\n",
       "      <td>...</td>\n",
       "      <td>...</td>\n",
       "      <td>...</td>\n",
       "      <td>...</td>\n",
       "      <td>...</td>\n",
       "    </tr>\n",
       "    <tr>\n",
       "      <th>188706</th>\n",
       "      <td>2019.12.16_13.36.25</td>\n",
       "      <td>-8.394601</td>\n",
       "      <td>51.886139</td>\n",
       "      <td>0</td>\n",
       "      <td>B</td>\n",
       "      <td>11</td>\n",
       "      <td>5G</td>\n",
       "      <td>-101</td>\n",
       "      <td>-13</td>\n",
       "      <td>-7.0</td>\n",
       "      <td>...</td>\n",
       "      <td>-</td>\n",
       "      <td>B</td>\n",
       "      <td>A4DF</td>\n",
       "      <td>9CBA</td>\n",
       "      <td>10805003</td>\n",
       "      <td>-103.0</td>\n",
       "      <td>-20.0</td>\n",
       "      <td>Static</td>\n",
       "      <td>Netflix Season3-StrangerThings</td>\n",
       "      <td>82</td>\n",
       "    </tr>\n",
       "    <tr>\n",
       "      <th>188707</th>\n",
       "      <td>2019.12.16_13.36.27</td>\n",
       "      <td>-8.394601</td>\n",
       "      <td>51.886139</td>\n",
       "      <td>0</td>\n",
       "      <td>B</td>\n",
       "      <td>11</td>\n",
       "      <td>5G</td>\n",
       "      <td>-101</td>\n",
       "      <td>-13</td>\n",
       "      <td>-7.0</td>\n",
       "      <td>...</td>\n",
       "      <td>-</td>\n",
       "      <td>B</td>\n",
       "      <td>A4DF</td>\n",
       "      <td>9CBA</td>\n",
       "      <td>10805003</td>\n",
       "      <td>-103.0</td>\n",
       "      <td>-20.0</td>\n",
       "      <td>Static</td>\n",
       "      <td>Netflix Season3-StrangerThings</td>\n",
       "      <td>82</td>\n",
       "    </tr>\n",
       "    <tr>\n",
       "      <th>188708</th>\n",
       "      <td>2019.12.16_13.36.28</td>\n",
       "      <td>-8.394601</td>\n",
       "      <td>51.886139</td>\n",
       "      <td>0</td>\n",
       "      <td>B</td>\n",
       "      <td>11</td>\n",
       "      <td>5G</td>\n",
       "      <td>-103</td>\n",
       "      <td>-12</td>\n",
       "      <td>5.0</td>\n",
       "      <td>...</td>\n",
       "      <td>-</td>\n",
       "      <td>B</td>\n",
       "      <td>A4DF</td>\n",
       "      <td>9CBA</td>\n",
       "      <td>10805003</td>\n",
       "      <td>-105.0</td>\n",
       "      <td>-19.0</td>\n",
       "      <td>Static</td>\n",
       "      <td>Netflix Season3-StrangerThings</td>\n",
       "      <td>82</td>\n",
       "    </tr>\n",
       "    <tr>\n",
       "      <th>188709</th>\n",
       "      <td>2019.12.16_13.36.29</td>\n",
       "      <td>-8.394601</td>\n",
       "      <td>51.886139</td>\n",
       "      <td>0</td>\n",
       "      <td>B</td>\n",
       "      <td>11</td>\n",
       "      <td>5G</td>\n",
       "      <td>-103</td>\n",
       "      <td>-12</td>\n",
       "      <td>5.0</td>\n",
       "      <td>...</td>\n",
       "      <td>-</td>\n",
       "      <td>B</td>\n",
       "      <td>A4DF</td>\n",
       "      <td>9CBA</td>\n",
       "      <td>10805003</td>\n",
       "      <td>-105.0</td>\n",
       "      <td>-19.0</td>\n",
       "      <td>Static</td>\n",
       "      <td>Netflix Season3-StrangerThings</td>\n",
       "      <td>82</td>\n",
       "    </tr>\n",
       "    <tr>\n",
       "      <th>188710</th>\n",
       "      <td>2019.12.16_13.36.30</td>\n",
       "      <td>-8.394601</td>\n",
       "      <td>51.886139</td>\n",
       "      <td>0</td>\n",
       "      <td>B</td>\n",
       "      <td>11</td>\n",
       "      <td>5G</td>\n",
       "      <td>-102</td>\n",
       "      <td>-12</td>\n",
       "      <td>-4.0</td>\n",
       "      <td>...</td>\n",
       "      <td>-</td>\n",
       "      <td>B</td>\n",
       "      <td>A4DF</td>\n",
       "      <td>9CBA</td>\n",
       "      <td>10805003</td>\n",
       "      <td>-107.0</td>\n",
       "      <td>-6.0</td>\n",
       "      <td>Static</td>\n",
       "      <td>Netflix Season3-StrangerThings</td>\n",
       "      <td>82</td>\n",
       "    </tr>\n",
       "  </tbody>\n",
       "</table>\n",
       "<p>188711 rows × 29 columns</p>\n",
       "</div>"
      ],
      "text/plain": [
       "                  Timestamp  Longitude   Latitude  Speed Operatorname  CellID  \\\n",
       "0       2019.11.28_07.27.57  -8.388193  51.935608      0            B      12   \n",
       "1       2019.11.28_07.27.57  -8.388269  51.935542      1            B      12   \n",
       "2       2019.11.28_07.27.58  -8.388269  51.935542      1            B      12   \n",
       "3       2019.11.28_07.27.59  -8.388269  51.935542      1            B      12   \n",
       "4       2019.11.28_07.28.00  -8.388269  51.935542      1            B      12   \n",
       "...                     ...        ...        ...    ...          ...     ...   \n",
       "188706  2019.12.16_13.36.25  -8.394601  51.886139      0            B      11   \n",
       "188707  2019.12.16_13.36.27  -8.394601  51.886139      0            B      11   \n",
       "188708  2019.12.16_13.36.28  -8.394601  51.886139      0            B      11   \n",
       "188709  2019.12.16_13.36.29  -8.394601  51.886139      0            B      11   \n",
       "188710  2019.12.16_13.36.30  -8.394601  51.886139      0            B      11   \n",
       "\n",
       "       NetworkMode  RSRP RSRQ  SNR  ... PINGLOSS CELLHEX  NODEHEX  LACHEX  \\\n",
       "0               5G  -102  -10  8.0  ...        -       C     A81B    9CBA   \n",
       "1               5G  -102  -10  8.0  ...        -       C     A81B    9CBA   \n",
       "2               5G  -102  -10  8.0  ...        -       C     A81B    9CBA   \n",
       "3               5G  -102  -10  3.0  ...        -       C     A81B    9CBA   \n",
       "4               5G  -102  -10  3.0  ...        -       C     A81B    9CBA   \n",
       "...            ...   ...  ...  ...  ...      ...     ...      ...     ...   \n",
       "188706          5G  -101  -13 -7.0  ...        -       B     A4DF    9CBA   \n",
       "188707          5G  -101  -13 -7.0  ...        -       B     A4DF    9CBA   \n",
       "188708          5G  -103  -12  5.0  ...        -       B     A4DF    9CBA   \n",
       "188709          5G  -103  -12  5.0  ...        -       B     A4DF    9CBA   \n",
       "188710          5G  -102  -12 -4.0  ...        -       B     A4DF    9CBA   \n",
       "\n",
       "       RAWCELLID NRxRSRP NRxRSRQ Mobility_Pattern  \\\n",
       "0       11016972  -102.0    -1.0          Driving   \n",
       "1       11016972  -102.0    -1.0          Driving   \n",
       "2       11016972  -102.0    -1.0          Driving   \n",
       "3       11016972  -101.0    -3.0          Driving   \n",
       "4       11016972  -101.0    -3.0          Driving   \n",
       "...          ...     ...     ...              ...   \n",
       "188706  10805003  -103.0   -20.0           Static   \n",
       "188707  10805003  -103.0   -20.0           Static   \n",
       "188708  10805003  -105.0   -19.0           Static   \n",
       "188709  10805003  -105.0   -19.0           Static   \n",
       "188710  10805003  -107.0    -6.0           Static   \n",
       "\n",
       "                              User_Activity Log_Number  \n",
       "0       Amazon_Prime animated-AdventureTime          0  \n",
       "1       Amazon_Prime animated-AdventureTime          0  \n",
       "2       Amazon_Prime animated-AdventureTime          0  \n",
       "3       Amazon_Prime animated-AdventureTime          0  \n",
       "4       Amazon_Prime animated-AdventureTime          0  \n",
       "...                                     ...        ...  \n",
       "188706       Netflix Season3-StrangerThings         82  \n",
       "188707       Netflix Season3-StrangerThings         82  \n",
       "188708       Netflix Season3-StrangerThings         82  \n",
       "188709       Netflix Season3-StrangerThings         82  \n",
       "188710       Netflix Season3-StrangerThings         82  \n",
       "\n",
       "[188711 rows x 29 columns]"
      ]
     },
     "execution_count": 140,
     "metadata": {},
     "output_type": "execute_result"
    }
   ],
   "source": [
    "df"
   ]
  },
  {
   "cell_type": "code",
   "execution_count": 141,
   "metadata": {},
   "outputs": [],
   "source": [
    "# Remove unused columns\n",
    "cleaned = df.drop(['Latitude','Longitude','Operatorname','CellID','PINGAVG','PINGMIN','PINGMAX','PINGSTDEV','PINGLOSS','CELLHEX','NODEHEX','LACHEX','RAWCELLID','NRxRSRP','NRxRSRQ'],axis=1)"
   ]
  },
  {
   "cell_type": "code",
   "execution_count": 142,
   "metadata": {},
   "outputs": [],
   "source": [
    "# Convert unkown string to datetime64\n",
    "# add TZ +1000 for Dublin, Ireland UTC\n",
    "cleaned[\"Timestamp\"] = cleaned[\"Timestamp\"].apply(lambda row : row[:9].replace(\".\", \"-\") + row[9:].replace(\".\", \":\").replace(\"_\", \" \") ).astype(\"datetime64[ns]\")"
   ]
  },
  {
   "cell_type": "code",
   "execution_count": 143,
   "metadata": {},
   "outputs": [
    {
     "data": {
      "text/plain": [
       "Timestamp           188711\n",
       "Speed               188711\n",
       "NetworkMode         188711\n",
       "RSRP                188711\n",
       "RSRQ                188711\n",
       "SNR                 188711\n",
       "CQI                 188711\n",
       "RSSI                188711\n",
       "DL_bitrate          188711\n",
       "UL_bitrate          188711\n",
       "State               188711\n",
       "Mobility_Pattern    188711\n",
       "User_Activity       188711\n",
       "Log_Number          188711\n",
       "dtype: int64"
      ]
     },
     "execution_count": 143,
     "metadata": {},
     "output_type": "execute_result"
    }
   ],
   "source": [
    "cleaned.count()"
   ]
  },
  {
   "cell_type": "code",
   "execution_count": 144,
   "metadata": {},
   "outputs": [],
   "source": [
    "# Remove values when state is idle and when bitrate falls below threshold\n",
    "cleaned = cleaned[(cleaned.State != 'I') & (cleaned.DL_bitrate > 10)]\n"
   ]
  },
  {
   "cell_type": "code",
   "execution_count": 145,
   "metadata": {},
   "outputs": [
    {
     "data": {
      "text/plain": [
       "Timestamp           91178\n",
       "Speed               91178\n",
       "NetworkMode         91178\n",
       "RSRP                91178\n",
       "RSRQ                91178\n",
       "SNR                 91178\n",
       "CQI                 91178\n",
       "RSSI                91178\n",
       "DL_bitrate          91178\n",
       "UL_bitrate          91178\n",
       "State               91178\n",
       "Mobility_Pattern    91178\n",
       "User_Activity       91178\n",
       "Log_Number          91178\n",
       "dtype: int64"
      ]
     },
     "execution_count": 145,
     "metadata": {},
     "output_type": "execute_result"
    }
   ],
   "source": [
    "cleaned.count()"
   ]
  },
  {
   "cell_type": "code",
   "execution_count": 146,
   "metadata": {},
   "outputs": [
    {
     "data": {
      "text/plain": [
       "Timestamp           datetime64[ns]\n",
       "Speed                        int64\n",
       "NetworkMode                 object\n",
       "RSRP                         int64\n",
       "RSRQ                        object\n",
       "SNR                         object\n",
       "CQI                         object\n",
       "RSSI                        object\n",
       "DL_bitrate                   int64\n",
       "UL_bitrate                   int64\n",
       "State                       object\n",
       "Mobility_Pattern            object\n",
       "User_Activity               object\n",
       "Log_Number                   int64\n",
       "dtype: object"
      ]
     },
     "execution_count": 146,
     "metadata": {},
     "output_type": "execute_result"
    }
   ],
   "source": [
    "cleaned.dtypes"
   ]
  },
  {
   "cell_type": "code",
   "execution_count": 147,
   "metadata": {},
   "outputs": [],
   "source": [
    "# Rename '-' to NaN values\n",
    "cleaned[[\"RSRQ\",\"SNR\",\"CQI\", \"RSSI\"]] = cleaned[[\"RSRQ\",\"SNR\",\"CQI\", \"RSSI\"]].replace('-', np.nan)\n"
   ]
  },
  {
   "cell_type": "code",
   "execution_count": 150,
   "metadata": {},
   "outputs": [
    {
     "data": {
      "text/html": [
       "<div>\n",
       "<style scoped>\n",
       "    .dataframe tbody tr th:only-of-type {\n",
       "        vertical-align: middle;\n",
       "    }\n",
       "\n",
       "    .dataframe tbody tr th {\n",
       "        vertical-align: top;\n",
       "    }\n",
       "\n",
       "    .dataframe thead th {\n",
       "        text-align: right;\n",
       "    }\n",
       "</style>\n",
       "<table border=\"1\" class=\"dataframe\">\n",
       "  <thead>\n",
       "    <tr style=\"text-align: right;\">\n",
       "      <th></th>\n",
       "      <th>RSRQ</th>\n",
       "      <th>SNR</th>\n",
       "      <th>CQI</th>\n",
       "      <th>RSSI</th>\n",
       "    </tr>\n",
       "  </thead>\n",
       "  <tbody>\n",
       "    <tr>\n",
       "      <th>5</th>\n",
       "      <td>-11</td>\n",
       "      <td>6</td>\n",
       "      <td>14</td>\n",
       "      <td>&lt;NA&gt;</td>\n",
       "    </tr>\n",
       "    <tr>\n",
       "      <th>6</th>\n",
       "      <td>-11</td>\n",
       "      <td>6</td>\n",
       "      <td>14</td>\n",
       "      <td>&lt;NA&gt;</td>\n",
       "    </tr>\n",
       "    <tr>\n",
       "      <th>8</th>\n",
       "      <td>-11</td>\n",
       "      <td>1</td>\n",
       "      <td>14</td>\n",
       "      <td>&lt;NA&gt;</td>\n",
       "    </tr>\n",
       "    <tr>\n",
       "      <th>9</th>\n",
       "      <td>-9</td>\n",
       "      <td>8</td>\n",
       "      <td>14</td>\n",
       "      <td>&lt;NA&gt;</td>\n",
       "    </tr>\n",
       "    <tr>\n",
       "      <th>10</th>\n",
       "      <td>-9</td>\n",
       "      <td>8</td>\n",
       "      <td>14</td>\n",
       "      <td>&lt;NA&gt;</td>\n",
       "    </tr>\n",
       "    <tr>\n",
       "      <th>...</th>\n",
       "      <td>...</td>\n",
       "      <td>...</td>\n",
       "      <td>...</td>\n",
       "      <td>...</td>\n",
       "    </tr>\n",
       "    <tr>\n",
       "      <th>188625</th>\n",
       "      <td>-12</td>\n",
       "      <td>-5</td>\n",
       "      <td>15</td>\n",
       "      <td>-88</td>\n",
       "    </tr>\n",
       "    <tr>\n",
       "      <th>188626</th>\n",
       "      <td>-11</td>\n",
       "      <td>-3</td>\n",
       "      <td>15</td>\n",
       "      <td>-88</td>\n",
       "    </tr>\n",
       "    <tr>\n",
       "      <th>188666</th>\n",
       "      <td>-16</td>\n",
       "      <td>-4</td>\n",
       "      <td>14</td>\n",
       "      <td>-87</td>\n",
       "    </tr>\n",
       "    <tr>\n",
       "      <th>188682</th>\n",
       "      <td>-11</td>\n",
       "      <td>3</td>\n",
       "      <td>14</td>\n",
       "      <td>-87</td>\n",
       "    </tr>\n",
       "    <tr>\n",
       "      <th>188708</th>\n",
       "      <td>-12</td>\n",
       "      <td>5</td>\n",
       "      <td>11</td>\n",
       "      <td>-88</td>\n",
       "    </tr>\n",
       "  </tbody>\n",
       "</table>\n",
       "<p>91178 rows × 4 columns</p>\n",
       "</div>"
      ],
      "text/plain": [
       "        RSRQ  SNR  CQI  RSSI\n",
       "5        -11    6   14  <NA>\n",
       "6        -11    6   14  <NA>\n",
       "8        -11    1   14  <NA>\n",
       "9         -9    8   14  <NA>\n",
       "10        -9    8   14  <NA>\n",
       "...      ...  ...  ...   ...\n",
       "188625   -12   -5   15   -88\n",
       "188626   -11   -3   15   -88\n",
       "188666   -16   -4   14   -87\n",
       "188682   -11    3   14   -87\n",
       "188708   -12    5   11   -88\n",
       "\n",
       "[91178 rows x 4 columns]"
      ]
     },
     "execution_count": 150,
     "metadata": {},
     "output_type": "execute_result"
    }
   ],
   "source": [
    "# Change objects columns to int64 dtype\n",
    "cleaned[[\"RSRQ\",\"SNR\",\"CQI\", \"RSSI\"]].astype(float).astype('Int64')"
   ]
  },
  {
   "cell_type": "code",
   "execution_count": 151,
   "metadata": {},
   "outputs": [
    {
     "data": {
      "text/plain": [
       "Timestamp               0\n",
       "Speed                   0\n",
       "NetworkMode             0\n",
       "RSRP                    0\n",
       "RSRQ                 3198\n",
       "SNR                 12329\n",
       "CQI                 12330\n",
       "RSSI                30878\n",
       "DL_bitrate              0\n",
       "UL_bitrate              0\n",
       "State                   0\n",
       "Mobility_Pattern        0\n",
       "User_Activity           0\n",
       "Log_Number              0\n",
       "dtype: int64"
      ]
     },
     "execution_count": 151,
     "metadata": {},
     "output_type": "execute_result"
    }
   ],
   "source": [
    "# Show sum of nan values in all columns\n",
    "cleaned.isna().sum()"
   ]
  },
  {
   "cell_type": "code",
   "execution_count": 152,
   "metadata": {},
   "outputs": [
    {
     "data": {
      "text/plain": [
       "array([ 5, 11, 22, 23, 38, 39, 40, 42, 43, 44, 46, 71], dtype=int64)"
      ]
     },
     "execution_count": 152,
     "metadata": {},
     "output_type": "execute_result"
    }
   ],
   "source": [
    "cleaned[cleaned['RSRQ'].isna()].Log_Number.unique()"
   ]
  },
  {
   "cell_type": "code",
   "execution_count": 153,
   "metadata": {},
   "outputs": [
    {
     "data": {
      "text/plain": [
       "array([ 0,  2,  3,  5,  6, 10, 11, 14, 16, 17, 18, 19, 20, 22, 23, 25, 29,\n",
       "       31, 32, 38, 39, 40, 42, 43, 44, 50, 51, 53, 55, 56, 59, 64, 65, 70,\n",
       "       71, 72, 73, 79], dtype=int64)"
      ]
     },
     "execution_count": 153,
     "metadata": {},
     "output_type": "execute_result"
    }
   ],
   "source": [
    "cleaned[cleaned['SNR'].isna()].Log_Number.unique()"
   ]
  },
  {
   "cell_type": "code",
   "execution_count": 154,
   "metadata": {},
   "outputs": [
    {
     "data": {
      "text/plain": [
       "array([ 0,  2,  3,  5,  6, 10, 11, 14, 16, 17, 18, 19, 20, 22, 23, 25, 29,\n",
       "       31, 32, 38, 39, 40, 42, 43, 44, 50, 51, 53, 55, 56, 59, 64, 65, 70,\n",
       "       71, 72, 73, 79], dtype=int64)"
      ]
     },
     "execution_count": 154,
     "metadata": {},
     "output_type": "execute_result"
    }
   ],
   "source": [
    "cleaned[cleaned['CQI'].isna()].Log_Number.unique()"
   ]
  },
  {
   "cell_type": "code",
   "execution_count": 155,
   "metadata": {},
   "outputs": [
    {
     "data": {
      "text/plain": [
       "array([ 0,  1,  2,  3,  4,  5,  6,  7,  8,  9, 10, 11, 12, 13, 14, 15, 16,\n",
       "       17, 18, 19, 20, 21, 22, 23, 24, 25, 26, 27, 28, 29, 30, 31, 32, 33,\n",
       "       34, 38, 39, 40, 42, 43, 44, 50, 51, 52, 53, 54, 55, 56, 57, 58, 59,\n",
       "       60, 61, 62, 63, 64, 65, 66, 67, 68, 69, 70, 71, 72, 73, 74, 75, 76,\n",
       "       77, 78, 79, 80, 81, 82], dtype=int64)"
      ]
     },
     "execution_count": 155,
     "metadata": {},
     "output_type": "execute_result"
    }
   ],
   "source": [
    "cleaned[cleaned['RSSI'].isna()].Log_Number.unique()"
   ]
  },
  {
   "cell_type": "markdown",
   "metadata": {},
   "source": [
    "# Handling Missing Data"
   ]
  },
  {
   "cell_type": "code",
   "execution_count": 157,
   "metadata": {},
   "outputs": [
    {
     "data": {
      "text/plain": [
       "<Axes: >"
      ]
     },
     "execution_count": 157,
     "metadata": {},
     "output_type": "execute_result"
    },
    {
     "data": {
      "image/png": "[encoded data removed]",
      "text/plain": [
       "<Figure size 640x480 with 1 Axes>"
      ]
     },
     "metadata": {},
     "output_type": "display_data"
    }
   ],
   "source": [
    "df[(df.Log_Number == 0)].RSRQ.plot()"
   ]
  },
  {
   "cell_type": "code",
   "execution_count": null,
   "metadata": {},
   "outputs": [],
   "source": []
  }
 ],
 "metadata": {
  "kernelspec": {
   "display_name": "5g_nbeats",
   "language": "python",
   "name": "python3"
  },
  "language_info": {
   "codemirror_mode": {
    "name": "ipython",
    "version": 3
   },
   "file_extension": ".py",
   "mimetype": "text/x-python",
   "name": "python",
   "nbconvert_exporter": "python",
   "pygments_lexer": "ipython3",
   "version": "3.12.0"
  }
 },
 "nbformat": 4,
 "nbformat_minor": 2
}
