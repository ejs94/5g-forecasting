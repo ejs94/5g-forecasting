{
 "cells": [
  {
   "cell_type": "code",
   "execution_count": 25,
   "metadata": {},
   "outputs": [],
   "source": [
    "import os\n",
    "import warnings\n",
    "\n",
    "import matplotlib.pyplot as plt\n",
    "import pandas as pd\n",
    "\n",
    "# import scienceplots\n",
    "import seaborn as sns\n",
    "from darts import TimeSeries\n",
    "from pandas.plotting import register_matplotlib_converters\n",
    "from pylab import rcParams\n",
    "from tqdm.auto import tqdm"
   ]
  },
  {
   "cell_type": "code",
   "execution_count": 26,
   "metadata": {},
   "outputs": [],
   "source": [
    "warnings.filterwarnings(\"ignore\")"
   ]
  },
  {
   "cell_type": "code",
   "execution_count": 27,
   "metadata": {},
   "outputs": [],
   "source": [
    "%matplotlib inline\n",
    "# %config InlineBackend.figure_format='retina'\n",
    "\n",
    "register_matplotlib_converters()\n",
    "# sns.set(style='whitegrid', palette='muted', font_scale=1.5)\n",
    "sns.set_theme()\n",
    "\n",
    "\n",
    "rcParams['figure.figsize'] = 12, 5\n",
    "# tqdm.pandas()"
   ]
  },
  {
   "cell_type": "markdown",
   "metadata": {},
   "source": [
    "## Static"
   ]
  },
  {
   "cell_type": "code",
   "execution_count": 28,
   "metadata": {},
   "outputs": [],
   "source": [
    "checkpoints_path = os.path.join(os.pardir, \"checkpoints\")\n",
    "df_static = pd.read_parquet(os.path.join(checkpoints_path, \"5G_df_static.parquet.gzip\"))"
   ]
  },
  {
   "cell_type": "code",
   "execution_count": 5,
   "metadata": {},
   "outputs": [
    {
     "data": {
      "text/plain": [
       "['45tHAXkk',\n",
       " '4u4uNEHg',\n",
       " 'AMcyZBRZ',\n",
       " 'CSyiTD67',\n",
       " 'FWgQihFY',\n",
       " 'GkLNvAxk',\n",
       " 'JX5ctgXk',\n",
       " 'Jg5gZWT9',\n",
       " 'JuJhmMUS',\n",
       " 'KWkqdhLs',\n",
       " 'L2Gc6KFE',\n",
       " 'NNM8S6cc',\n",
       " 'ThHnpx5h',\n",
       " 'VVtpjXhe',\n",
       " 'X5rS2fPs',\n",
       " 'Zk7wQePj',\n",
       " 'aTx448ZX',\n",
       " 'eoHUrkbG',\n",
       " 'in2JGSH5',\n",
       " 'j9aQcpma',\n",
       " 'm3xmyiFu',\n",
       " 'mDVN6DYG',\n",
       " 'nQK8dP5x']"
      ]
     },
     "metadata": {},
     "output_type": "display_data"
    }
   ],
   "source": [
    "static_uids = sorted(df_static.Uid.unique().tolist())\n",
    "display(static_uids)"
   ]
  },
  {
   "cell_type": "code",
   "execution_count": 6,
   "metadata": {},
   "outputs": [],
   "source": [
    "test_df = (\n",
    "    df_static[df_static.Uid == static_uids[0]][[\"RSRP\", \"RSRQ\", \"SNR\", \"CQI\", \"RSSI\"]]\n",
    "    .asfreq(freq=\"S\")\n",
    "    .bfill()\n",
    ")"
   ]
  },
  {
   "cell_type": "code",
   "execution_count": 7,
   "metadata": {},
   "outputs": [
    {
     "data": {
      "text/html": [
       "<div>\n",
       "<style scoped>\n",
       "    .dataframe tbody tr th:only-of-type {\n",
       "        vertical-align: middle;\n",
       "    }\n",
       "\n",
       "    .dataframe tbody tr th {\n",
       "        vertical-align: top;\n",
       "    }\n",
       "\n",
       "    .dataframe thead th {\n",
       "        text-align: right;\n",
       "    }\n",
       "</style>\n",
       "<table border=\"1\" class=\"dataframe\">\n",
       "  <thead>\n",
       "    <tr style=\"text-align: right;\">\n",
       "      <th></th>\n",
       "      <th>RSRP</th>\n",
       "      <th>RSRQ</th>\n",
       "      <th>SNR</th>\n",
       "      <th>CQI</th>\n",
       "      <th>RSSI</th>\n",
       "    </tr>\n",
       "    <tr>\n",
       "      <th>Timestamp</th>\n",
       "      <th></th>\n",
       "      <th></th>\n",
       "      <th></th>\n",
       "      <th></th>\n",
       "      <th></th>\n",
       "    </tr>\n",
       "  </thead>\n",
       "  <tbody>\n",
       "    <tr>\n",
       "      <th>2019-12-16 13:40:04</th>\n",
       "      <td>-103.0</td>\n",
       "      <td>-15.0</td>\n",
       "      <td>1.0</td>\n",
       "      <td>15.0</td>\n",
       "      <td>-90.0</td>\n",
       "    </tr>\n",
       "    <tr>\n",
       "      <th>2019-12-16 13:40:05</th>\n",
       "      <td>-102.0</td>\n",
       "      <td>-16.0</td>\n",
       "      <td>7.0</td>\n",
       "      <td>15.0</td>\n",
       "      <td>-90.0</td>\n",
       "    </tr>\n",
       "    <tr>\n",
       "      <th>2019-12-16 13:40:06</th>\n",
       "      <td>-102.0</td>\n",
       "      <td>-16.0</td>\n",
       "      <td>7.0</td>\n",
       "      <td>15.0</td>\n",
       "      <td>-90.0</td>\n",
       "    </tr>\n",
       "    <tr>\n",
       "      <th>2019-12-16 13:40:07</th>\n",
       "      <td>-104.0</td>\n",
       "      <td>-14.0</td>\n",
       "      <td>-7.0</td>\n",
       "      <td>11.0</td>\n",
       "      <td>-88.0</td>\n",
       "    </tr>\n",
       "    <tr>\n",
       "      <th>2019-12-16 13:40:08</th>\n",
       "      <td>-104.0</td>\n",
       "      <td>-14.0</td>\n",
       "      <td>-7.0</td>\n",
       "      <td>11.0</td>\n",
       "      <td>-88.0</td>\n",
       "    </tr>\n",
       "    <tr>\n",
       "      <th>...</th>\n",
       "      <td>...</td>\n",
       "      <td>...</td>\n",
       "      <td>...</td>\n",
       "      <td>...</td>\n",
       "      <td>...</td>\n",
       "    </tr>\n",
       "    <tr>\n",
       "      <th>2019-12-16 14:18:01</th>\n",
       "      <td>-99.0</td>\n",
       "      <td>-13.0</td>\n",
       "      <td>8.0</td>\n",
       "      <td>8.0</td>\n",
       "      <td>-89.0</td>\n",
       "    </tr>\n",
       "    <tr>\n",
       "      <th>2019-12-16 14:18:02</th>\n",
       "      <td>-99.0</td>\n",
       "      <td>-13.0</td>\n",
       "      <td>8.0</td>\n",
       "      <td>8.0</td>\n",
       "      <td>-89.0</td>\n",
       "    </tr>\n",
       "    <tr>\n",
       "      <th>2019-12-16 14:18:03</th>\n",
       "      <td>-100.0</td>\n",
       "      <td>-14.0</td>\n",
       "      <td>0.0</td>\n",
       "      <td>9.0</td>\n",
       "      <td>-87.0</td>\n",
       "    </tr>\n",
       "    <tr>\n",
       "      <th>2019-12-16 14:18:04</th>\n",
       "      <td>-100.0</td>\n",
       "      <td>-14.0</td>\n",
       "      <td>0.0</td>\n",
       "      <td>9.0</td>\n",
       "      <td>-87.0</td>\n",
       "    </tr>\n",
       "    <tr>\n",
       "      <th>2019-12-16 14:18:05</th>\n",
       "      <td>-100.0</td>\n",
       "      <td>-14.0</td>\n",
       "      <td>0.0</td>\n",
       "      <td>9.0</td>\n",
       "      <td>-87.0</td>\n",
       "    </tr>\n",
       "  </tbody>\n",
       "</table>\n",
       "<p>2282 rows × 5 columns</p>\n",
       "</div>"
      ],
      "text/plain": [
       "                      RSRP  RSRQ  SNR   CQI  RSSI\n",
       "Timestamp                                        \n",
       "2019-12-16 13:40:04 -103.0 -15.0  1.0  15.0 -90.0\n",
       "2019-12-16 13:40:05 -102.0 -16.0  7.0  15.0 -90.0\n",
       "2019-12-16 13:40:06 -102.0 -16.0  7.0  15.0 -90.0\n",
       "2019-12-16 13:40:07 -104.0 -14.0 -7.0  11.0 -88.0\n",
       "2019-12-16 13:40:08 -104.0 -14.0 -7.0  11.0 -88.0\n",
       "...                    ...   ...  ...   ...   ...\n",
       "2019-12-16 14:18:01  -99.0 -13.0  8.0   8.0 -89.0\n",
       "2019-12-16 14:18:02  -99.0 -13.0  8.0   8.0 -89.0\n",
       "2019-12-16 14:18:03 -100.0 -14.0  0.0   9.0 -87.0\n",
       "2019-12-16 14:18:04 -100.0 -14.0  0.0   9.0 -87.0\n",
       "2019-12-16 14:18:05 -100.0 -14.0  0.0   9.0 -87.0\n",
       "\n",
       "[2282 rows x 5 columns]"
      ]
     },
     "execution_count": 7,
     "metadata": {},
     "output_type": "execute_result"
    }
   ],
   "source": [
    "test_df"
   ]
  },
  {
   "cell_type": "code",
   "execution_count": 8,
   "metadata": {},
   "outputs": [
    {
     "data": {
      "text/plain": [
       "<Axes: xlabel='Timestamp'>"
      ]
     },
     "execution_count": 8,
     "metadata": {},
     "output_type": "execute_result"
    },
    {
     "data": {
      "image/png": "[encoded data removed]",
      "text/plain": [
       "<Figure size 1200x500 with 5 Axes>"
      ]
     },
     "metadata": {},
     "output_type": "display_data"
    }
   ],
   "source": [
    "fig, ax = plt.subplots(5, 1)\n",
    "test_df.plot(kind=\"line\", sharex=True, y=\"RSRP\", color=\"b\", ax=ax[0])\n",
    "test_df.plot(kind=\"line\", sharex=True, y=\"RSRQ\", color=\"b\", ax=ax[1])\n",
    "test_df.plot(kind=\"line\", sharex=True, y=\"SNR\", color=\"b\", ax=ax[2])\n",
    "test_df.plot(kind=\"line\", sharex=True, y=\"CQI\", color=\"b\", ax=ax[3])\n",
    "test_df.plot(kind=\"line\", sharex=True, y=\"RSSI\", color=\"b\", ax=ax[4])"
   ]
  },
  {
   "cell_type": "code",
   "execution_count": 9,
   "metadata": {},
   "outputs": [],
   "source": [
    "ts_static = TimeSeries.from_dataframe(\n",
    "    test_df,\n",
    "    value_cols=[\"RSRP\", \"RSRQ\", \"SNR\", \"CQI\", \"RSSI\"],\n",
    "    # fill_missing_dates=True,  # Adiciona NaN para os segundos ausentes\n",
    "    # freq=\"s\",\n",
    ")"
   ]
  },
  {
   "cell_type": "code",
   "execution_count": 20,
   "metadata": {},
   "outputs": [
    {
     "data": {
      "text/plain": [
       "array(['2019-12-16T13:40:04.000000000', '2019-12-16T13:40:05.000000000',\n",
       "       '2019-12-16T13:40:06.000000000', ...,\n",
       "       '2019-12-16T14:18:03.000000000', '2019-12-16T14:18:04.000000000',\n",
       "       '2019-12-16T14:18:05.000000000'], dtype='datetime64[ns]')"
      ]
     },
     "execution_count": 20,
     "metadata": {},
     "output_type": "execute_result"
    }
   ],
   "source": [
    "ts_static.time_index.values"
   ]
  },
  {
   "cell_type": "code",
   "execution_count": 24,
   "metadata": {},
   "outputs": [
    {
     "data": {
      "text/plain": [
       "array([-103., -102., -102., ..., -100., -100., -100.])"
      ]
     },
     "execution_count": 24,
     "metadata": {},
     "output_type": "execute_result"
    }
   ],
   "source": [
    "ts_static[\"RSRP\"].all_values().flatten()"
   ]
  },
  {
   "cell_type": "markdown",
   "metadata": {},
   "source": [
    "## Driving"
   ]
  },
  {
   "cell_type": "code",
   "execution_count": 30,
   "metadata": {},
   "outputs": [],
   "source": [
    "df_driving = pd.read_parquet(\n",
    "    os.path.join(checkpoints_path, \"5G_df_driving.parquet.gzip\")\n",
    ")"
   ]
  },
  {
   "cell_type": "code",
   "execution_count": 31,
   "metadata": {},
   "outputs": [
    {
     "data": {
      "text/html": [
       "<div>\n",
       "<style scoped>\n",
       "    .dataframe tbody tr th:only-of-type {\n",
       "        vertical-align: middle;\n",
       "    }\n",
       "\n",
       "    .dataframe tbody tr th {\n",
       "        vertical-align: top;\n",
       "    }\n",
       "\n",
       "    .dataframe thead th {\n",
       "        text-align: right;\n",
       "    }\n",
       "</style>\n",
       "<table border=\"1\" class=\"dataframe\">\n",
       "  <thead>\n",
       "    <tr style=\"text-align: right;\">\n",
       "      <th></th>\n",
       "      <th>Speed</th>\n",
       "      <th>NetworkMode</th>\n",
       "      <th>RSRP</th>\n",
       "      <th>RSRQ</th>\n",
       "      <th>SNR</th>\n",
       "      <th>CQI</th>\n",
       "      <th>RSSI</th>\n",
       "      <th>DL_bitrate</th>\n",
       "      <th>UL_bitrate</th>\n",
       "      <th>State</th>\n",
       "      <th>Uid</th>\n",
       "      <th>User_Activity</th>\n",
       "    </tr>\n",
       "    <tr>\n",
       "      <th>Timestamp</th>\n",
       "      <th></th>\n",
       "      <th></th>\n",
       "      <th></th>\n",
       "      <th></th>\n",
       "      <th></th>\n",
       "      <th></th>\n",
       "      <th></th>\n",
       "      <th></th>\n",
       "      <th></th>\n",
       "      <th></th>\n",
       "      <th></th>\n",
       "      <th></th>\n",
       "    </tr>\n",
       "  </thead>\n",
       "  <tbody>\n",
       "    <tr>\n",
       "      <th>2019-12-14 10:16:30</th>\n",
       "      <td>0</td>\n",
       "      <td>5G</td>\n",
       "      <td>-99.0</td>\n",
       "      <td>-15.0</td>\n",
       "      <td>6.0</td>\n",
       "      <td>12.0</td>\n",
       "      <td>-90.0</td>\n",
       "      <td>7</td>\n",
       "      <td>1</td>\n",
       "      <td>D</td>\n",
       "      <td>MZqeaBpy</td>\n",
       "      <td>Downloading a File</td>\n",
       "    </tr>\n",
       "    <tr>\n",
       "      <th>2019-12-14 10:16:31</th>\n",
       "      <td>1</td>\n",
       "      <td>5G</td>\n",
       "      <td>-99.0</td>\n",
       "      <td>-15.0</td>\n",
       "      <td>6.0</td>\n",
       "      <td>12.0</td>\n",
       "      <td>-90.0</td>\n",
       "      <td>7</td>\n",
       "      <td>1</td>\n",
       "      <td>D</td>\n",
       "      <td>MZqeaBpy</td>\n",
       "      <td>Downloading a File</td>\n",
       "    </tr>\n",
       "    <tr>\n",
       "      <th>2019-12-14 10:16:32</th>\n",
       "      <td>1</td>\n",
       "      <td>5G</td>\n",
       "      <td>-102.0</td>\n",
       "      <td>-14.0</td>\n",
       "      <td>6.0</td>\n",
       "      <td>12.0</td>\n",
       "      <td>-90.0</td>\n",
       "      <td>0</td>\n",
       "      <td>0</td>\n",
       "      <td>D</td>\n",
       "      <td>MZqeaBpy</td>\n",
       "      <td>Downloading a File</td>\n",
       "    </tr>\n",
       "    <tr>\n",
       "      <th>2019-12-14 10:16:33</th>\n",
       "      <td>1</td>\n",
       "      <td>5G</td>\n",
       "      <td>-102.0</td>\n",
       "      <td>-14.0</td>\n",
       "      <td>6.0</td>\n",
       "      <td>12.0</td>\n",
       "      <td>-90.0</td>\n",
       "      <td>9</td>\n",
       "      <td>12</td>\n",
       "      <td>D</td>\n",
       "      <td>MZqeaBpy</td>\n",
       "      <td>Downloading a File</td>\n",
       "    </tr>\n",
       "    <tr>\n",
       "      <th>2019-12-14 10:16:34</th>\n",
       "      <td>1</td>\n",
       "      <td>5G</td>\n",
       "      <td>-102.0</td>\n",
       "      <td>-14.0</td>\n",
       "      <td>4.0</td>\n",
       "      <td>12.0</td>\n",
       "      <td>-90.0</td>\n",
       "      <td>0</td>\n",
       "      <td>0</td>\n",
       "      <td>D</td>\n",
       "      <td>MZqeaBpy</td>\n",
       "      <td>Downloading a File</td>\n",
       "    </tr>\n",
       "    <tr>\n",
       "      <th>...</th>\n",
       "      <td>...</td>\n",
       "      <td>...</td>\n",
       "      <td>...</td>\n",
       "      <td>...</td>\n",
       "      <td>...</td>\n",
       "      <td>...</td>\n",
       "      <td>...</td>\n",
       "      <td>...</td>\n",
       "      <td>...</td>\n",
       "      <td>...</td>\n",
       "      <td>...</td>\n",
       "      <td>...</td>\n",
       "    </tr>\n",
       "    <tr>\n",
       "      <th>2020-02-27 20:50:01</th>\n",
       "      <td>24</td>\n",
       "      <td>HSPA+</td>\n",
       "      <td>-71.0</td>\n",
       "      <td>NaN</td>\n",
       "      <td>NaN</td>\n",
       "      <td>NaN</td>\n",
       "      <td>NaN</td>\n",
       "      <td>4616</td>\n",
       "      <td>74</td>\n",
       "      <td>D</td>\n",
       "      <td>Ha29pUkv</td>\n",
       "      <td>Downloading a File</td>\n",
       "    </tr>\n",
       "    <tr>\n",
       "      <th>2020-02-27 20:50:02</th>\n",
       "      <td>24</td>\n",
       "      <td>HSPA+</td>\n",
       "      <td>-71.0</td>\n",
       "      <td>NaN</td>\n",
       "      <td>NaN</td>\n",
       "      <td>NaN</td>\n",
       "      <td>NaN</td>\n",
       "      <td>5089</td>\n",
       "      <td>88</td>\n",
       "      <td>D</td>\n",
       "      <td>Ha29pUkv</td>\n",
       "      <td>Downloading a File</td>\n",
       "    </tr>\n",
       "    <tr>\n",
       "      <th>2020-02-27 20:50:03</th>\n",
       "      <td>24</td>\n",
       "      <td>HSPA+</td>\n",
       "      <td>-69.0</td>\n",
       "      <td>NaN</td>\n",
       "      <td>NaN</td>\n",
       "      <td>NaN</td>\n",
       "      <td>NaN</td>\n",
       "      <td>5383</td>\n",
       "      <td>105</td>\n",
       "      <td>D</td>\n",
       "      <td>Ha29pUkv</td>\n",
       "      <td>Downloading a File</td>\n",
       "    </tr>\n",
       "    <tr>\n",
       "      <th>2020-02-27 20:50:05</th>\n",
       "      <td>24</td>\n",
       "      <td>HSPA+</td>\n",
       "      <td>-69.0</td>\n",
       "      <td>NaN</td>\n",
       "      <td>NaN</td>\n",
       "      <td>NaN</td>\n",
       "      <td>NaN</td>\n",
       "      <td>391</td>\n",
       "      <td>11</td>\n",
       "      <td>D</td>\n",
       "      <td>Ha29pUkv</td>\n",
       "      <td>Downloading a File</td>\n",
       "    </tr>\n",
       "    <tr>\n",
       "      <th>2020-02-27 20:50:06</th>\n",
       "      <td>24</td>\n",
       "      <td>HSPA+</td>\n",
       "      <td>-75.0</td>\n",
       "      <td>NaN</td>\n",
       "      <td>NaN</td>\n",
       "      <td>NaN</td>\n",
       "      <td>NaN</td>\n",
       "      <td>0</td>\n",
       "      <td>0</td>\n",
       "      <td>I</td>\n",
       "      <td>Ha29pUkv</td>\n",
       "      <td>Downloading a File</td>\n",
       "    </tr>\n",
       "  </tbody>\n",
       "</table>\n",
       "<p>24446 rows × 12 columns</p>\n",
       "</div>"
      ],
      "text/plain": [
       "                     Speed NetworkMode   RSRP  RSRQ  SNR   CQI  RSSI  \\\n",
       "Timestamp                                                              \n",
       "2019-12-14 10:16:30      0          5G  -99.0 -15.0  6.0  12.0 -90.0   \n",
       "2019-12-14 10:16:31      1          5G  -99.0 -15.0  6.0  12.0 -90.0   \n",
       "2019-12-14 10:16:32      1          5G -102.0 -14.0  6.0  12.0 -90.0   \n",
       "2019-12-14 10:16:33      1          5G -102.0 -14.0  6.0  12.0 -90.0   \n",
       "2019-12-14 10:16:34      1          5G -102.0 -14.0  4.0  12.0 -90.0   \n",
       "...                    ...         ...    ...   ...  ...   ...   ...   \n",
       "2020-02-27 20:50:01     24       HSPA+  -71.0   NaN  NaN   NaN   NaN   \n",
       "2020-02-27 20:50:02     24       HSPA+  -71.0   NaN  NaN   NaN   NaN   \n",
       "2020-02-27 20:50:03     24       HSPA+  -69.0   NaN  NaN   NaN   NaN   \n",
       "2020-02-27 20:50:05     24       HSPA+  -69.0   NaN  NaN   NaN   NaN   \n",
       "2020-02-27 20:50:06     24       HSPA+  -75.0   NaN  NaN   NaN   NaN   \n",
       "\n",
       "                     DL_bitrate  UL_bitrate State       Uid  \\\n",
       "Timestamp                                                     \n",
       "2019-12-14 10:16:30           7           1     D  MZqeaBpy   \n",
       "2019-12-14 10:16:31           7           1     D  MZqeaBpy   \n",
       "2019-12-14 10:16:32           0           0     D  MZqeaBpy   \n",
       "2019-12-14 10:16:33           9          12     D  MZqeaBpy   \n",
       "2019-12-14 10:16:34           0           0     D  MZqeaBpy   \n",
       "...                         ...         ...   ...       ...   \n",
       "2020-02-27 20:50:01        4616          74     D  Ha29pUkv   \n",
       "2020-02-27 20:50:02        5089          88     D  Ha29pUkv   \n",
       "2020-02-27 20:50:03        5383         105     D  Ha29pUkv   \n",
       "2020-02-27 20:50:05         391          11     D  Ha29pUkv   \n",
       "2020-02-27 20:50:06           0           0     I  Ha29pUkv   \n",
       "\n",
       "                          User_Activity  \n",
       "Timestamp                                \n",
       "2019-12-14 10:16:30  Downloading a File  \n",
       "2019-12-14 10:16:31  Downloading a File  \n",
       "2019-12-14 10:16:32  Downloading a File  \n",
       "2019-12-14 10:16:33  Downloading a File  \n",
       "2019-12-14 10:16:34  Downloading a File  \n",
       "...                                 ...  \n",
       "2020-02-27 20:50:01  Downloading a File  \n",
       "2020-02-27 20:50:02  Downloading a File  \n",
       "2020-02-27 20:50:03  Downloading a File  \n",
       "2020-02-27 20:50:05  Downloading a File  \n",
       "2020-02-27 20:50:06  Downloading a File  \n",
       "\n",
       "[24446 rows x 12 columns]"
      ]
     },
     "execution_count": 31,
     "metadata": {},
     "output_type": "execute_result"
    }
   ],
   "source": [
    "df_driving.query(\"User_Activity == 'Downloading a File'\")"
   ]
  },
  {
   "cell_type": "markdown",
   "metadata": {},
   "source": [
    "## Verificação de Estacionaridade"
   ]
  },
  {
   "cell_type": "markdown",
   "metadata": {},
   "source": [
    "### 1. Verificar a estacionaridade usando o Teste de Dickey-Fuller Aumentado"
   ]
  },
  {
   "cell_type": "markdown",
   "metadata": {},
   "source": [
    "Uma série temporal é considerada \"estacionária\" se **não apresenta tendência**, exibe **variância constante** ao longo do tempo e possui uma estrutura de **autocorrelação constante** ao longo do tempo.\n",
    "\n",
    "Uma maneira de testar se uma série temporal é estacionária é realizar um teste de **Dickey-Fuller aumentado**, que utiliza as seguintes hipóteses nulas e alternativas:\n",
    "\n",
    "> $H_0$: A série temporal **não é estacionária**. Em outras palavras, ela possui alguma estrutura dependente do tempo e não apresenta variância constante ao longo do tempo.\n",
    "\n",
    "> $H_A$: A série temporal **é estacionária**.\n",
    "\n",
    "Se o **valor de p** do teste for **menor que** algum nível de **significância** (por exemplo, **α = 0,05**), então podemos **rejeitar a hipótese nula** e concluir que a série temporal **é estacionária**."
   ]
  },
  {
   "cell_type": "code",
   "execution_count": 14,
   "metadata": {},
   "outputs": [],
   "source": [
    "from statsmodels.tsa.stattools import adfuller"
   ]
  },
  {
   "cell_type": "code",
   "execution_count": null,
   "metadata": {},
   "outputs": [],
   "source": [
    "# Teste de Dickey-Fuller Aumentado\n",
    "result = adfuller(test_df[\"RSRP\"])\n",
    "print(\"ADF Statistic:\", result[0])\n",
    "print(\"p-value:\", result[1])\n",
    "\n",
    "if result[1] < 0.05:\n",
    "    print(\"A série é estacionária\")\n",
    "else:\n",
    "    print(\"A série não é estacionária\")"
   ]
  },
  {
   "cell_type": "markdown",
   "metadata": {},
   "source": [
    "Interpretação dos Resultados:\n",
    "\n",
    "- **Estatística ADF (ADF Statistic):** Valor da estatística de teste. Valores mais negativos indicam uma série mais fortemente estacionária.\n",
    "- **p-value:** Probabilidade associada ao teste. Um p-valor abaixo de 0.05 geralmente indica que a série é estacionária, pois rejeita a hipótese nula de que a série possui uma unidade raiz (não estacionária).\n",
    "- **Valores Críticos (Critical Values):** Ponto de corte para diferentes níveis de significância (1%, 5%, e 10%)."
   ]
  },
  {
   "cell_type": "markdown",
   "metadata": {},
   "source": [
    "## 2. Aplicação de Diferenciação para Remover Tendência. \n",
    "\n",
    "Se o p-valor do teste ADF for maior que 0.05, a série não é estacionária, e precisamos aplicar diferenciação."
   ]
  },
  {
   "cell_type": "code",
   "execution_count": null,
   "metadata": {},
   "outputs": [],
   "source": [
    "# Aplicando a primeira diferença\n",
    "series_diff = test_df[\"RSRP\"].diff().dropna()\n",
    "\n",
    "# Visualizar a série diferenciada\n",
    "series_diff.plot(title=\"Série Temporal Diferenciada\")\n",
    "plt.show()"
   ]
  },
  {
   "cell_type": "code",
   "execution_count": null,
   "metadata": {},
   "outputs": [],
   "source": [
    "# Teste de Dickey-Fuller na série diferenciada\n",
    "result_diff = adfuller(series_diff)\n",
    "print(\"ADF Statistic (differenced):\", result_diff[0])\n",
    "print(\"p-value (differenced):\", result_diff[1])"
   ]
  },
  {
   "cell_type": "markdown",
   "metadata": {},
   "source": [
    "A diferenciação pode ser aplicada repetidamente a uma série temporal até que ela se torne estacionária. No contexto de modelagem ARIMA, o número de vezes que a diferenciação é aplicada está relacionado com o parâmetro d do modelo ARIMA (p, d, q).\n",
    "\n",
    "- **Evite Overdifferencing:** Diferenciar a série mais do que o necessário pode levar a problemas na modelagem e na interpretação dos resultados. Idealmente, o número de diferenciações deve ser o menor possível para alcançar a estacionaridade.\n",
    "- **Análise Visual:** Além dos testes estatísticos, análises visuais dos gráficos de séries temporais diferenciadas, ACF, e PACF também são úteis para decidir o nível adequado de diferenciação."
   ]
  },
  {
   "cell_type": "markdown",
   "metadata": {},
   "source": [
    "### 3. Autocorrelação (ACF) e a autocorrelação parcial (PACF) para identificar componentes sazonais"
   ]
  },
  {
   "cell_type": "code",
   "execution_count": 61,
   "metadata": {},
   "outputs": [],
   "source": [
    "from statsmodels.graphics.tsaplots import plot_acf, plot_pacf"
   ]
  },
  {
   "cell_type": "markdown",
   "metadata": {},
   "source": [
    "\n",
    "- Autocorrelação (ACF): \n",
    "  - O gráfico de autocorrelação mostra a correlação da série com suas próprias versões defasadas (lags). Quando uma série temporal possui componentes sazonais, o gráfico de ACF geralmente mostra picos em lags múltiplos do período sazonal. Por exemplo, se há um padrão sazonal anual em dados mensais, picos significativos na ACF aparecerão nos lags 12, 24, 36, etc.\n",
    "- Autocorrelação parcial (PACF): \n",
    "  - O gráfico de autocorrelação parcial mostra a correlação entre a série e suas defasagens, excluindo o efeito das defasagens intermediárias. Na presença de sazonalidade, a PACF pode mostrar picos significativos nos lags correspondentes ao período sazonal. A PACF é útil para entender a estrutura subjacente de um modelo autorregressivo e para diferenciar entre componentes sazonais e de tendência."
   ]
  },
  {
   "cell_type": "code",
   "execution_count": null,
   "metadata": {},
   "outputs": [],
   "source": [
    "# Plotar ACF\n",
    "plot_acf(test_df[\"RSRP\"], lags=60)\n",
    "plt.title(\"ACF - Autocorrelação\")\n",
    "plt.show()"
   ]
  },
  {
   "cell_type": "markdown",
   "metadata": {},
   "source": [
    "Interpretação do ACF:\n",
    "- Apresentar um comportamento decrescente sem picos significativos em lags específicos, isso geralmente indica que a série temporal não possui uma sazonalidade forte ou distinta."
   ]
  },
  {
   "cell_type": "code",
   "execution_count": null,
   "metadata": {},
   "outputs": [],
   "source": [
    "# Plotar PACF\n",
    "plot_pacf(test_df[\"RSRP\"], lags=60)\n",
    "plt.title(\"PACF - Autocorrelação Parcial\")\n",
    "plt.show()"
   ]
  },
  {
   "cell_type": "markdown",
   "metadata": {},
   "source": [
    "Interpretação do PACF:\n",
    "- Valor Alto em Lag 0:\n",
    "    -Lag 0 representa a autocorrelação da série com ela mesma, que é sempre 1, pois cada ponto está perfeitamente correlacionado consigo mesmo.\n",
    "- Valores Altos nos Lags 1 e 2:\n",
    "    -Valores altos em lag 1 e especialmente em lag 2 sugerem que a série tem uma dependência significativa dos valores observados dois períodos antes. Isso é típico de um processo autoregressivo de ordem 2 (AR(2))."
   ]
  },
  {
   "cell_type": "markdown",
   "metadata": {},
   "source": [
    "Interpretação dos Gráficos\n",
    "- ACF: Um ACF que decresce exponencialmente pode sugerir que a série é bem representada por um modelo autoregressivo (AR), onde os valores são influenciados pelos valores anteriores, mas essa influência decai com o tempo. Neste caso, a PACF pode mostrar um corte abrupto após o primeiro ou segundo lag, o que ajuda a identificar a ordem do modelo AR.\n",
    "- PACF com Corte Abaixo de um Certo Lag: Um corte claro na PACF após o primeiro ou segundo lag sugere um modelo AR de baixa ordem."
   ]
  },
  {
   "cell_type": "markdown",
   "metadata": {},
   "source": [
    "## The Hodrick-Prescott Filter:\n",
    "\n",
    "Separetes a time-series $y_t$ into a trend component $\\tau_t$ and a cyclical component $c_t$.\n",
    "\n",
    "$$ y_t = \\tau_t + c_t $$"
   ]
  },
  {
   "cell_type": "code",
   "execution_count": 64,
   "metadata": {},
   "outputs": [],
   "source": [
    "from statsmodels.tsa.filters.hp_filter import hpfilter"
   ]
  },
  {
   "cell_type": "code",
   "execution_count": 65,
   "metadata": {},
   "outputs": [],
   "source": [
    "RSRP_cycle, RSRP_trend = hpfilter(test_df[\"RSRP\"], lamb=1600)"
   ]
  },
  {
   "cell_type": "code",
   "execution_count": null,
   "metadata": {},
   "outputs": [],
   "source": [
    "RSRP_cycle.plot()"
   ]
  },
  {
   "cell_type": "code",
   "execution_count": null,
   "metadata": {},
   "outputs": [],
   "source": [
    "test_df[\"RSRP\"].plot()\n",
    "RSRP_trend.plot()"
   ]
  },
  {
   "cell_type": "markdown",
   "metadata": {},
   "source": [
    "## The ETS (Error-Trend-Seasonality) Models:\n",
    "\n",
    "ETS (Exponential Smoothing) is a time series forecasting technique that combines three main components: error (E), trend (T), and seasonality (S). It smooths past data to predict future values by applying exponentially decreasing weights over time. There are various types of ETS models, including additive and multiplicative models, depending on how trend and seasonality interact with the time series data. ETS is particularly useful for data exhibiting seasonal patterns and trends, enabling accurate forecasts in scenarios where these components are significant."
   ]
  },
  {
   "cell_type": "markdown",
   "metadata": {},
   "source": [
    "- An additive model is applied when the trend appears linear and both the seasonality and trend components seem constant over time.\n",
    "- A multiplicative model is more appropriate when the trend is increasing (or decreasing) at a non-linear rate."
   ]
  },
  {
   "cell_type": "code",
   "execution_count": 68,
   "metadata": {},
   "outputs": [],
   "source": [
    "from statsmodels.tsa.seasonal import seasonal_decompose"
   ]
  },
  {
   "cell_type": "code",
   "execution_count": null,
   "metadata": {},
   "outputs": [],
   "source": [
    "seasonal_decompose(test_df[\"RSRP\"], model=\"add\", period=60).plot()"
   ]
  },
  {
   "cell_type": "markdown",
   "metadata": {},
   "source": [
    "## Rolling Moving Average"
   ]
  },
  {
   "cell_type": "code",
   "execution_count": null,
   "metadata": {},
   "outputs": [],
   "source": [
    "test_df[\"RSRP\"].plot()\n",
    "test_df[\"RSRP\"].rolling(window=30).mean().plot()\n",
    "test_df[\"RSRP\"].rolling(window=60).mean().plot()"
   ]
  },
  {
   "cell_type": "markdown",
   "metadata": {},
   "source": [
    "## EWMA (Exponentially weighted moving average)"
   ]
  },
  {
   "cell_type": "code",
   "execution_count": null,
   "metadata": {},
   "outputs": [],
   "source": [
    "test_df[\"RSRP\"].plot()\n",
    "test_df[\"RSRP\"].rolling(window=30).mean().plot()\n",
    "test_df[\"RSRP\"].rolling(window=60).mean().plot()"
   ]
  },
  {
   "cell_type": "code",
   "execution_count": null,
   "metadata": {},
   "outputs": [],
   "source": [
    "test_df[\"RSRP\"].plot()\n",
    "test_df[\"RSRP\"].ewm(span=60).mean().plot()"
   ]
  },
  {
   "cell_type": "markdown",
   "metadata": {},
   "source": []
  },
  {
   "cell_type": "code",
   "execution_count": null,
   "metadata": {},
   "outputs": [],
   "source": []
  },
  {
   "cell_type": "markdown",
   "metadata": {},
   "source": [
    "Estudar:\n",
    "\n",
    "  - https://www.youtube.com/watch?v=CAT0Y66nPhs\n",
    "  - https://github.com/unit8co/darts/blob/master/examples/01-multi-time-series-and-covariates.ipynb"
   ]
  },
  {
   "cell_type": "markdown",
   "metadata": {},
   "source": [
    "Código para referência:\n",
    "\n",
    "- https://github.com/KareemElozeiri/CQI-Timeseries-Forecasting/blob/main/notebooks/CQI_Time_Series_Forecasting.ipynb"
   ]
  },
  {
   "cell_type": "markdown",
   "metadata": {},
   "source": []
  }
 ],
 "metadata": {
  "kernelspec": {
   "display_name": "n_beats",
   "language": "python",
   "name": "python3"
  },
  "language_info": {
   "codemirror_mode": {
    "name": "ipython",
    "version": 3
   },
   "file_extension": ".py",
   "mimetype": "text/x-python",
   "name": "python",
   "nbconvert_exporter": "python",
   "pygments_lexer": "ipython3",
   "version": "3.10.14"
  }
 },
 "nbformat": 4,
 "nbformat_minor": 2
}
