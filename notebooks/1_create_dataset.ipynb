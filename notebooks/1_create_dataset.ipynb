{
 "cells": [
  {
   "cell_type": "markdown",
   "metadata": {},
   "source": [
    "Verificar como fazer download do dataset do github e exluir arquivos que não são importantes, por fim, será necessário salvar os arquivos em um repo tipo o huggingface"
   ]
  },
  {
   "cell_type": "code",
   "execution_count": 255,
   "metadata": {},
   "outputs": [],
   "source": [
    "import os\n",
    "import glob\n",
    "import pandas as pd\n",
    "import numpy as np"
   ]
  },
  {
   "cell_type": "code",
   "execution_count": 256,
   "metadata": {},
   "outputs": [],
   "source": [
    "path = os.path.join(os.pardir, \"datasets\", \"5G-production-dataset\")\n"
   ]
  },
  {
   "cell_type": "code",
   "execution_count": 257,
   "metadata": {},
   "outputs": [],
   "source": [
    "files = glob.glob(path + \"/**/*.csv\", recursive=True)"
   ]
  },
  {
   "cell_type": "code",
   "execution_count": 258,
   "metadata": {},
   "outputs": [],
   "source": [
    "listdf = []\n",
    "for i, file in enumerate(files):\n",
    "  file = file.replace(\"\\\\\",\"/\")\n",
    "  df = pd.read_csv(file)\n",
    "  folders_name = file.split('/')[3:-1]\n",
    "\n",
    "  # It will identify if the user is static or moving.\n",
    "  df[\"Mobility_Pattern\"] = folders_name[1]\n",
    "  folders_name.pop(1)\n",
    "\n",
    "  # It will identify if the user is downloading or watching some streaming.\n",
    "  df[\"User_Activity\"] = ' '.join(folders_name)\n",
    "\n",
    "  # It will identify if the user is downloading or watching some streaming.\n",
    "  df[\"Log_Number\"] = i\n",
    "\n",
    "  listdf.append(df)\n",
    "\n",
    "del df"
   ]
  },
  {
   "cell_type": "code",
   "execution_count": 259,
   "metadata": {},
   "outputs": [],
   "source": [
    "df = pd.concat(listdf, axis=0, ignore_index=True)"
   ]
  },
  {
   "cell_type": "code",
   "execution_count": 260,
   "metadata": {},
   "outputs": [
    {
     "data": {
      "text/html": [
       "<div>\n",
       "<style scoped>\n",
       "    .dataframe tbody tr th:only-of-type {\n",
       "        vertical-align: middle;\n",
       "    }\n",
       "\n",
       "    .dataframe tbody tr th {\n",
       "        vertical-align: top;\n",
       "    }\n",
       "\n",
       "    .dataframe thead th {\n",
       "        text-align: right;\n",
       "    }\n",
       "</style>\n",
       "<table border=\"1\" class=\"dataframe\">\n",
       "  <thead>\n",
       "    <tr style=\"text-align: right;\">\n",
       "      <th></th>\n",
       "      <th>Timestamp</th>\n",
       "      <th>Longitude</th>\n",
       "      <th>Latitude</th>\n",
       "      <th>Speed</th>\n",
       "      <th>Operatorname</th>\n",
       "      <th>CellID</th>\n",
       "      <th>NetworkMode</th>\n",
       "      <th>RSRP</th>\n",
       "      <th>RSRQ</th>\n",
       "      <th>SNR</th>\n",
       "      <th>...</th>\n",
       "      <th>PINGLOSS</th>\n",
       "      <th>CELLHEX</th>\n",
       "      <th>NODEHEX</th>\n",
       "      <th>LACHEX</th>\n",
       "      <th>RAWCELLID</th>\n",
       "      <th>NRxRSRP</th>\n",
       "      <th>NRxRSRQ</th>\n",
       "      <th>Mobility_Pattern</th>\n",
       "      <th>User_Activity</th>\n",
       "      <th>Log_Number</th>\n",
       "    </tr>\n",
       "  </thead>\n",
       "  <tbody>\n",
       "    <tr>\n",
       "      <th>0</th>\n",
       "      <td>2019.11.28_07.27.57</td>\n",
       "      <td>-8.388193</td>\n",
       "      <td>51.935608</td>\n",
       "      <td>0</td>\n",
       "      <td>B</td>\n",
       "      <td>12</td>\n",
       "      <td>5G</td>\n",
       "      <td>-102</td>\n",
       "      <td>-10</td>\n",
       "      <td>8.0</td>\n",
       "      <td>...</td>\n",
       "      <td>-</td>\n",
       "      <td>C</td>\n",
       "      <td>A81B</td>\n",
       "      <td>9CBA</td>\n",
       "      <td>11016972</td>\n",
       "      <td>-102.0</td>\n",
       "      <td>-1.0</td>\n",
       "      <td>Driving</td>\n",
       "      <td>Amazon_Prime animated-AdventureTime</td>\n",
       "      <td>0</td>\n",
       "    </tr>\n",
       "    <tr>\n",
       "      <th>1</th>\n",
       "      <td>2019.11.28_07.27.57</td>\n",
       "      <td>-8.388269</td>\n",
       "      <td>51.935542</td>\n",
       "      <td>1</td>\n",
       "      <td>B</td>\n",
       "      <td>12</td>\n",
       "      <td>5G</td>\n",
       "      <td>-102</td>\n",
       "      <td>-10</td>\n",
       "      <td>8.0</td>\n",
       "      <td>...</td>\n",
       "      <td>-</td>\n",
       "      <td>C</td>\n",
       "      <td>A81B</td>\n",
       "      <td>9CBA</td>\n",
       "      <td>11016972</td>\n",
       "      <td>-102.0</td>\n",
       "      <td>-1.0</td>\n",
       "      <td>Driving</td>\n",
       "      <td>Amazon_Prime animated-AdventureTime</td>\n",
       "      <td>0</td>\n",
       "    </tr>\n",
       "    <tr>\n",
       "      <th>2</th>\n",
       "      <td>2019.11.28_07.27.58</td>\n",
       "      <td>-8.388269</td>\n",
       "      <td>51.935542</td>\n",
       "      <td>1</td>\n",
       "      <td>B</td>\n",
       "      <td>12</td>\n",
       "      <td>5G</td>\n",
       "      <td>-102</td>\n",
       "      <td>-10</td>\n",
       "      <td>8.0</td>\n",
       "      <td>...</td>\n",
       "      <td>-</td>\n",
       "      <td>C</td>\n",
       "      <td>A81B</td>\n",
       "      <td>9CBA</td>\n",
       "      <td>11016972</td>\n",
       "      <td>-102.0</td>\n",
       "      <td>-1.0</td>\n",
       "      <td>Driving</td>\n",
       "      <td>Amazon_Prime animated-AdventureTime</td>\n",
       "      <td>0</td>\n",
       "    </tr>\n",
       "    <tr>\n",
       "      <th>3</th>\n",
       "      <td>2019.11.28_07.27.59</td>\n",
       "      <td>-8.388269</td>\n",
       "      <td>51.935542</td>\n",
       "      <td>1</td>\n",
       "      <td>B</td>\n",
       "      <td>12</td>\n",
       "      <td>5G</td>\n",
       "      <td>-102</td>\n",
       "      <td>-10</td>\n",
       "      <td>3.0</td>\n",
       "      <td>...</td>\n",
       "      <td>-</td>\n",
       "      <td>C</td>\n",
       "      <td>A81B</td>\n",
       "      <td>9CBA</td>\n",
       "      <td>11016972</td>\n",
       "      <td>-101.0</td>\n",
       "      <td>-3.0</td>\n",
       "      <td>Driving</td>\n",
       "      <td>Amazon_Prime animated-AdventureTime</td>\n",
       "      <td>0</td>\n",
       "    </tr>\n",
       "    <tr>\n",
       "      <th>4</th>\n",
       "      <td>2019.11.28_07.28.00</td>\n",
       "      <td>-8.388269</td>\n",
       "      <td>51.935542</td>\n",
       "      <td>1</td>\n",
       "      <td>B</td>\n",
       "      <td>12</td>\n",
       "      <td>5G</td>\n",
       "      <td>-102</td>\n",
       "      <td>-10</td>\n",
       "      <td>3.0</td>\n",
       "      <td>...</td>\n",
       "      <td>-</td>\n",
       "      <td>C</td>\n",
       "      <td>A81B</td>\n",
       "      <td>9CBA</td>\n",
       "      <td>11016972</td>\n",
       "      <td>-101.0</td>\n",
       "      <td>-3.0</td>\n",
       "      <td>Driving</td>\n",
       "      <td>Amazon_Prime animated-AdventureTime</td>\n",
       "      <td>0</td>\n",
       "    </tr>\n",
       "    <tr>\n",
       "      <th>...</th>\n",
       "      <td>...</td>\n",
       "      <td>...</td>\n",
       "      <td>...</td>\n",
       "      <td>...</td>\n",
       "      <td>...</td>\n",
       "      <td>...</td>\n",
       "      <td>...</td>\n",
       "      <td>...</td>\n",
       "      <td>...</td>\n",
       "      <td>...</td>\n",
       "      <td>...</td>\n",
       "      <td>...</td>\n",
       "      <td>...</td>\n",
       "      <td>...</td>\n",
       "      <td>...</td>\n",
       "      <td>...</td>\n",
       "      <td>...</td>\n",
       "      <td>...</td>\n",
       "      <td>...</td>\n",
       "      <td>...</td>\n",
       "      <td>...</td>\n",
       "    </tr>\n",
       "    <tr>\n",
       "      <th>188706</th>\n",
       "      <td>2019.12.16_13.36.25</td>\n",
       "      <td>-8.394601</td>\n",
       "      <td>51.886139</td>\n",
       "      <td>0</td>\n",
       "      <td>B</td>\n",
       "      <td>11</td>\n",
       "      <td>5G</td>\n",
       "      <td>-101</td>\n",
       "      <td>-13</td>\n",
       "      <td>-7.0</td>\n",
       "      <td>...</td>\n",
       "      <td>-</td>\n",
       "      <td>B</td>\n",
       "      <td>A4DF</td>\n",
       "      <td>9CBA</td>\n",
       "      <td>10805003</td>\n",
       "      <td>-103.0</td>\n",
       "      <td>-20.0</td>\n",
       "      <td>Static</td>\n",
       "      <td>Netflix Season3-StrangerThings</td>\n",
       "      <td>82</td>\n",
       "    </tr>\n",
       "    <tr>\n",
       "      <th>188707</th>\n",
       "      <td>2019.12.16_13.36.27</td>\n",
       "      <td>-8.394601</td>\n",
       "      <td>51.886139</td>\n",
       "      <td>0</td>\n",
       "      <td>B</td>\n",
       "      <td>11</td>\n",
       "      <td>5G</td>\n",
       "      <td>-101</td>\n",
       "      <td>-13</td>\n",
       "      <td>-7.0</td>\n",
       "      <td>...</td>\n",
       "      <td>-</td>\n",
       "      <td>B</td>\n",
       "      <td>A4DF</td>\n",
       "      <td>9CBA</td>\n",
       "      <td>10805003</td>\n",
       "      <td>-103.0</td>\n",
       "      <td>-20.0</td>\n",
       "      <td>Static</td>\n",
       "      <td>Netflix Season3-StrangerThings</td>\n",
       "      <td>82</td>\n",
       "    </tr>\n",
       "    <tr>\n",
       "      <th>188708</th>\n",
       "      <td>2019.12.16_13.36.28</td>\n",
       "      <td>-8.394601</td>\n",
       "      <td>51.886139</td>\n",
       "      <td>0</td>\n",
       "      <td>B</td>\n",
       "      <td>11</td>\n",
       "      <td>5G</td>\n",
       "      <td>-103</td>\n",
       "      <td>-12</td>\n",
       "      <td>5.0</td>\n",
       "      <td>...</td>\n",
       "      <td>-</td>\n",
       "      <td>B</td>\n",
       "      <td>A4DF</td>\n",
       "      <td>9CBA</td>\n",
       "      <td>10805003</td>\n",
       "      <td>-105.0</td>\n",
       "      <td>-19.0</td>\n",
       "      <td>Static</td>\n",
       "      <td>Netflix Season3-StrangerThings</td>\n",
       "      <td>82</td>\n",
       "    </tr>\n",
       "    <tr>\n",
       "      <th>188709</th>\n",
       "      <td>2019.12.16_13.36.29</td>\n",
       "      <td>-8.394601</td>\n",
       "      <td>51.886139</td>\n",
       "      <td>0</td>\n",
       "      <td>B</td>\n",
       "      <td>11</td>\n",
       "      <td>5G</td>\n",
       "      <td>-103</td>\n",
       "      <td>-12</td>\n",
       "      <td>5.0</td>\n",
       "      <td>...</td>\n",
       "      <td>-</td>\n",
       "      <td>B</td>\n",
       "      <td>A4DF</td>\n",
       "      <td>9CBA</td>\n",
       "      <td>10805003</td>\n",
       "      <td>-105.0</td>\n",
       "      <td>-19.0</td>\n",
       "      <td>Static</td>\n",
       "      <td>Netflix Season3-StrangerThings</td>\n",
       "      <td>82</td>\n",
       "    </tr>\n",
       "    <tr>\n",
       "      <th>188710</th>\n",
       "      <td>2019.12.16_13.36.30</td>\n",
       "      <td>-8.394601</td>\n",
       "      <td>51.886139</td>\n",
       "      <td>0</td>\n",
       "      <td>B</td>\n",
       "      <td>11</td>\n",
       "      <td>5G</td>\n",
       "      <td>-102</td>\n",
       "      <td>-12</td>\n",
       "      <td>-4.0</td>\n",
       "      <td>...</td>\n",
       "      <td>-</td>\n",
       "      <td>B</td>\n",
       "      <td>A4DF</td>\n",
       "      <td>9CBA</td>\n",
       "      <td>10805003</td>\n",
       "      <td>-107.0</td>\n",
       "      <td>-6.0</td>\n",
       "      <td>Static</td>\n",
       "      <td>Netflix Season3-StrangerThings</td>\n",
       "      <td>82</td>\n",
       "    </tr>\n",
       "  </tbody>\n",
       "</table>\n",
       "<p>188711 rows × 29 columns</p>\n",
       "</div>"
      ],
      "text/plain": [
       "                  Timestamp  Longitude   Latitude  Speed Operatorname  CellID  \\\n",
       "0       2019.11.28_07.27.57  -8.388193  51.935608      0            B      12   \n",
       "1       2019.11.28_07.27.57  -8.388269  51.935542      1            B      12   \n",
       "2       2019.11.28_07.27.58  -8.388269  51.935542      1            B      12   \n",
       "3       2019.11.28_07.27.59  -8.388269  51.935542      1            B      12   \n",
       "4       2019.11.28_07.28.00  -8.388269  51.935542      1            B      12   \n",
       "...                     ...        ...        ...    ...          ...     ...   \n",
       "188706  2019.12.16_13.36.25  -8.394601  51.886139      0            B      11   \n",
       "188707  2019.12.16_13.36.27  -8.394601  51.886139      0            B      11   \n",
       "188708  2019.12.16_13.36.28  -8.394601  51.886139      0            B      11   \n",
       "188709  2019.12.16_13.36.29  -8.394601  51.886139      0            B      11   \n",
       "188710  2019.12.16_13.36.30  -8.394601  51.886139      0            B      11   \n",
       "\n",
       "       NetworkMode  RSRP RSRQ  SNR  ... PINGLOSS CELLHEX  NODEHEX  LACHEX  \\\n",
       "0               5G  -102  -10  8.0  ...        -       C     A81B    9CBA   \n",
       "1               5G  -102  -10  8.0  ...        -       C     A81B    9CBA   \n",
       "2               5G  -102  -10  8.0  ...        -       C     A81B    9CBA   \n",
       "3               5G  -102  -10  3.0  ...        -       C     A81B    9CBA   \n",
       "4               5G  -102  -10  3.0  ...        -       C     A81B    9CBA   \n",
       "...            ...   ...  ...  ...  ...      ...     ...      ...     ...   \n",
       "188706          5G  -101  -13 -7.0  ...        -       B     A4DF    9CBA   \n",
       "188707          5G  -101  -13 -7.0  ...        -       B     A4DF    9CBA   \n",
       "188708          5G  -103  -12  5.0  ...        -       B     A4DF    9CBA   \n",
       "188709          5G  -103  -12  5.0  ...        -       B     A4DF    9CBA   \n",
       "188710          5G  -102  -12 -4.0  ...        -       B     A4DF    9CBA   \n",
       "\n",
       "       RAWCELLID NRxRSRP NRxRSRQ Mobility_Pattern  \\\n",
       "0       11016972  -102.0    -1.0          Driving   \n",
       "1       11016972  -102.0    -1.0          Driving   \n",
       "2       11016972  -102.0    -1.0          Driving   \n",
       "3       11016972  -101.0    -3.0          Driving   \n",
       "4       11016972  -101.0    -3.0          Driving   \n",
       "...          ...     ...     ...              ...   \n",
       "188706  10805003  -103.0   -20.0           Static   \n",
       "188707  10805003  -103.0   -20.0           Static   \n",
       "188708  10805003  -105.0   -19.0           Static   \n",
       "188709  10805003  -105.0   -19.0           Static   \n",
       "188710  10805003  -107.0    -6.0           Static   \n",
       "\n",
       "                              User_Activity Log_Number  \n",
       "0       Amazon_Prime animated-AdventureTime          0  \n",
       "1       Amazon_Prime animated-AdventureTime          0  \n",
       "2       Amazon_Prime animated-AdventureTime          0  \n",
       "3       Amazon_Prime animated-AdventureTime          0  \n",
       "4       Amazon_Prime animated-AdventureTime          0  \n",
       "...                                     ...        ...  \n",
       "188706       Netflix Season3-StrangerThings         82  \n",
       "188707       Netflix Season3-StrangerThings         82  \n",
       "188708       Netflix Season3-StrangerThings         82  \n",
       "188709       Netflix Season3-StrangerThings         82  \n",
       "188710       Netflix Season3-StrangerThings         82  \n",
       "\n",
       "[188711 rows x 29 columns]"
      ]
     },
     "execution_count": 260,
     "metadata": {},
     "output_type": "execute_result"
    }
   ],
   "source": [
    "df"
   ]
  },
  {
   "cell_type": "code",
   "execution_count": 261,
   "metadata": {},
   "outputs": [],
   "source": [
    "# Remove unused columns\n",
    "cleaned = df.drop(['Latitude','Longitude','Operatorname','CellID','PINGAVG','PINGMIN','PINGMAX','PINGSTDEV','PINGLOSS','CELLHEX','NODEHEX','LACHEX','RAWCELLID','NRxRSRP','NRxRSRQ'],axis=1)"
   ]
  },
  {
   "cell_type": "code",
   "execution_count": 262,
   "metadata": {},
   "outputs": [],
   "source": [
    "# Convert unkown string to datetime64\n",
    "# add TZ +1000 for Dublin, Ireland UTC\n",
    "cleaned[\"Timestamp\"] = cleaned[\"Timestamp\"].apply(lambda row : row[:9].replace(\".\", \"-\") + row[9:].replace(\".\", \":\").replace(\"_\", \" \") ).astype(\"datetime64[ns]\")"
   ]
  },
  {
   "cell_type": "code",
   "execution_count": 263,
   "metadata": {},
   "outputs": [
    {
     "data": {
      "text/plain": [
       "Timestamp           188711\n",
       "Speed               188711\n",
       "NetworkMode         188711\n",
       "RSRP                188711\n",
       "RSRQ                188711\n",
       "SNR                 188711\n",
       "CQI                 188711\n",
       "RSSI                188711\n",
       "DL_bitrate          188711\n",
       "UL_bitrate          188711\n",
       "State               188711\n",
       "Mobility_Pattern    188711\n",
       "User_Activity       188711\n",
       "Log_Number          188711\n",
       "dtype: int64"
      ]
     },
     "execution_count": 263,
     "metadata": {},
     "output_type": "execute_result"
    }
   ],
   "source": [
    "cleaned.count()"
   ]
  },
  {
   "cell_type": "code",
   "execution_count": 264,
   "metadata": {},
   "outputs": [],
   "source": [
    "# Remove values when state is idle and when bitrate falls below threshold\n",
    "# cleaned = cleaned[(cleaned.State != 'I') & (cleaned.DL_bitrate > 10)]\n"
   ]
  },
  {
   "cell_type": "code",
   "execution_count": 265,
   "metadata": {},
   "outputs": [
    {
     "data": {
      "text/plain": [
       "Timestamp           188711\n",
       "Speed               188711\n",
       "NetworkMode         188711\n",
       "RSRP                188711\n",
       "RSRQ                188711\n",
       "SNR                 188711\n",
       "CQI                 188711\n",
       "RSSI                188711\n",
       "DL_bitrate          188711\n",
       "UL_bitrate          188711\n",
       "State               188711\n",
       "Mobility_Pattern    188711\n",
       "User_Activity       188711\n",
       "Log_Number          188711\n",
       "dtype: int64"
      ]
     },
     "execution_count": 265,
     "metadata": {},
     "output_type": "execute_result"
    }
   ],
   "source": [
    "cleaned.count()"
   ]
  },
  {
   "cell_type": "code",
   "execution_count": 266,
   "metadata": {},
   "outputs": [
    {
     "data": {
      "text/plain": [
       "Timestamp           datetime64[ns]\n",
       "Speed                        int64\n",
       "NetworkMode                 object\n",
       "RSRP                         int64\n",
       "RSRQ                        object\n",
       "SNR                         object\n",
       "CQI                         object\n",
       "RSSI                        object\n",
       "DL_bitrate                   int64\n",
       "UL_bitrate                   int64\n",
       "State                       object\n",
       "Mobility_Pattern            object\n",
       "User_Activity               object\n",
       "Log_Number                   int64\n",
       "dtype: object"
      ]
     },
     "execution_count": 266,
     "metadata": {},
     "output_type": "execute_result"
    }
   ],
   "source": [
    "cleaned.dtypes"
   ]
  },
  {
   "cell_type": "code",
   "execution_count": 267,
   "metadata": {},
   "outputs": [],
   "source": [
    "# Rename '-' to NaN values\n",
    "cleaned[[\"RSRQ\",\"SNR\",\"CQI\", \"RSSI\"]] = cleaned[[\"RSRQ\",\"SNR\",\"CQI\", \"RSSI\"]].replace('-', np.nan)\n"
   ]
  },
  {
   "cell_type": "code",
   "execution_count": 268,
   "metadata": {},
   "outputs": [],
   "source": [
    "# Change objects columns to int64 dtype\n",
    "cleaned[[\"RSRQ\",\"SNR\",\"CQI\", \"RSSI\"]] = cleaned[[\"RSRQ\",\"SNR\",\"CQI\", \"RSSI\"]].astype(float).astype('Int64')"
   ]
  },
  {
   "cell_type": "code",
   "execution_count": 269,
   "metadata": {},
   "outputs": [
    {
     "data": {
      "text/plain": [
       "Timestamp           datetime64[ns]\n",
       "Speed                        int64\n",
       "NetworkMode                 object\n",
       "RSRP                         int64\n",
       "RSRQ                         Int64\n",
       "SNR                          Int64\n",
       "CQI                          Int64\n",
       "RSSI                         Int64\n",
       "DL_bitrate                   int64\n",
       "UL_bitrate                   int64\n",
       "State                       object\n",
       "Mobility_Pattern            object\n",
       "User_Activity               object\n",
       "Log_Number                   int64\n",
       "dtype: object"
      ]
     },
     "execution_count": 269,
     "metadata": {},
     "output_type": "execute_result"
    }
   ],
   "source": [
    "cleaned.dtypes"
   ]
  },
  {
   "cell_type": "code",
   "execution_count": 270,
   "metadata": {},
   "outputs": [
    {
     "data": {
      "text/plain": [
       "Timestamp               0\n",
       "Speed                   0\n",
       "NetworkMode             0\n",
       "RSRP                    0\n",
       "RSRQ                 3634\n",
       "SNR                 17096\n",
       "CQI                 17097\n",
       "RSSI                53573\n",
       "DL_bitrate              0\n",
       "UL_bitrate              0\n",
       "State                   0\n",
       "Mobility_Pattern        0\n",
       "User_Activity           0\n",
       "Log_Number              0\n",
       "dtype: int64"
      ]
     },
     "execution_count": 270,
     "metadata": {},
     "output_type": "execute_result"
    }
   ],
   "source": [
    "# Show sum of nan values in all columns\n",
    "cleaned.isna().sum()"
   ]
  },
  {
   "cell_type": "code",
   "execution_count": 271,
   "metadata": {},
   "outputs": [
    {
     "data": {
      "text/plain": [
       "array([], dtype=int64)"
      ]
     },
     "execution_count": 271,
     "metadata": {},
     "output_type": "execute_result"
    }
   ],
   "source": [
    "cleaned[cleaned['RSRP'].isna()].Log_Number.unique()"
   ]
  },
  {
   "cell_type": "code",
   "execution_count": 272,
   "metadata": {},
   "outputs": [
    {
     "data": {
      "text/plain": [
       "array([ 5, 10, 11, 20, 22, 23, 25, 38, 39, 40, 41, 42, 43, 44, 46, 65, 71,\n",
       "       73, 79], dtype=int64)"
      ]
     },
     "execution_count": 272,
     "metadata": {},
     "output_type": "execute_result"
    }
   ],
   "source": [
    "cleaned[cleaned['RSRQ'].isna()].Log_Number.unique()"
   ]
  },
  {
   "cell_type": "code",
   "execution_count": 273,
   "metadata": {},
   "outputs": [
    {
     "data": {
      "text/plain": [
       "array([ 0,  2,  3,  5,  6, 10, 11, 14, 16, 17, 18, 19, 20, 22, 23, 25, 29,\n",
       "       31, 32, 38, 39, 40, 42, 43, 44, 50, 51, 53, 55, 56, 59, 62, 64, 65,\n",
       "       70, 71, 72, 73, 79], dtype=int64)"
      ]
     },
     "execution_count": 273,
     "metadata": {},
     "output_type": "execute_result"
    }
   ],
   "source": [
    "cleaned[cleaned['SNR'].isna()].Log_Number.unique()"
   ]
  },
  {
   "cell_type": "code",
   "execution_count": 274,
   "metadata": {},
   "outputs": [
    {
     "data": {
      "text/plain": [
       "array([ 0,  2,  3,  5,  6, 10, 11, 14, 16, 17, 18, 19, 20, 22, 23, 25, 29,\n",
       "       31, 32, 38, 39, 40, 42, 43, 44, 50, 51, 53, 55, 56, 59, 62, 64, 65,\n",
       "       70, 71, 72, 73, 79], dtype=int64)"
      ]
     },
     "execution_count": 274,
     "metadata": {},
     "output_type": "execute_result"
    }
   ],
   "source": [
    "cleaned[cleaned['CQI'].isna()].Log_Number.unique()"
   ]
  },
  {
   "cell_type": "code",
   "execution_count": 275,
   "metadata": {},
   "outputs": [
    {
     "data": {
      "text/plain": [
       "array([ 0,  1,  2,  3,  4,  5,  6,  7,  8,  9, 10, 11, 12, 13, 14, 15, 16,\n",
       "       17, 18, 19, 20, 21, 22, 23, 24, 25, 26, 27, 28, 29, 30, 31, 32, 33,\n",
       "       34, 38, 39, 40, 42, 43, 44, 45, 50, 51, 52, 53, 54, 55, 56, 57, 58,\n",
       "       59, 60, 61, 62, 63, 64, 65, 66, 67, 68, 69, 70, 71, 72, 73, 74, 75,\n",
       "       76, 77, 78, 79, 80, 81, 82], dtype=int64)"
      ]
     },
     "execution_count": 275,
     "metadata": {},
     "output_type": "execute_result"
    }
   ],
   "source": [
    "cleaned[cleaned['RSSI'].isna()].Log_Number.unique()"
   ]
  },
  {
   "cell_type": "markdown",
   "metadata": {},
   "source": [
    "# Time as index and remove duplicated"
   ]
  },
  {
   "cell_type": "code",
   "execution_count": 276,
   "metadata": {},
   "outputs": [],
   "source": [
    "# Configurar a coluna de data/hora como índice\n",
    "cleaned = cleaned.set_index('Timestamp')\n"
   ]
  },
  {
   "cell_type": "code",
   "execution_count": 277,
   "metadata": {},
   "outputs": [],
   "source": [
    "# Remover índices duplicados\n",
    "cleaned = cleaned[~cleaned.index.duplicated(keep='first')]"
   ]
  },
  {
   "cell_type": "code",
   "execution_count": 278,
   "metadata": {},
   "outputs": [
    {
     "data": {
      "text/html": [
       "<div>\n",
       "<style scoped>\n",
       "    .dataframe tbody tr th:only-of-type {\n",
       "        vertical-align: middle;\n",
       "    }\n",
       "\n",
       "    .dataframe tbody tr th {\n",
       "        vertical-align: top;\n",
       "    }\n",
       "\n",
       "    .dataframe thead th {\n",
       "        text-align: right;\n",
       "    }\n",
       "</style>\n",
       "<table border=\"1\" class=\"dataframe\">\n",
       "  <thead>\n",
       "    <tr style=\"text-align: right;\">\n",
       "      <th></th>\n",
       "      <th>Speed</th>\n",
       "      <th>NetworkMode</th>\n",
       "      <th>RSRP</th>\n",
       "      <th>RSRQ</th>\n",
       "      <th>SNR</th>\n",
       "      <th>CQI</th>\n",
       "      <th>RSSI</th>\n",
       "      <th>DL_bitrate</th>\n",
       "      <th>UL_bitrate</th>\n",
       "      <th>State</th>\n",
       "      <th>Mobility_Pattern</th>\n",
       "      <th>User_Activity</th>\n",
       "      <th>Log_Number</th>\n",
       "    </tr>\n",
       "    <tr>\n",
       "      <th>Timestamp</th>\n",
       "      <th></th>\n",
       "      <th></th>\n",
       "      <th></th>\n",
       "      <th></th>\n",
       "      <th></th>\n",
       "      <th></th>\n",
       "      <th></th>\n",
       "      <th></th>\n",
       "      <th></th>\n",
       "      <th></th>\n",
       "      <th></th>\n",
       "      <th></th>\n",
       "      <th></th>\n",
       "    </tr>\n",
       "  </thead>\n",
       "  <tbody>\n",
       "    <tr>\n",
       "      <th>2019-11-28 07:27:57</th>\n",
       "      <td>0</td>\n",
       "      <td>5G</td>\n",
       "      <td>-102</td>\n",
       "      <td>-10</td>\n",
       "      <td>8</td>\n",
       "      <td>14</td>\n",
       "      <td>&lt;NA&gt;</td>\n",
       "      <td>0</td>\n",
       "      <td>0</td>\n",
       "      <td>I</td>\n",
       "      <td>Driving</td>\n",
       "      <td>Amazon_Prime animated-AdventureTime</td>\n",
       "      <td>0</td>\n",
       "    </tr>\n",
       "    <tr>\n",
       "      <th>2019-11-28 07:27:58</th>\n",
       "      <td>1</td>\n",
       "      <td>5G</td>\n",
       "      <td>-102</td>\n",
       "      <td>-10</td>\n",
       "      <td>8</td>\n",
       "      <td>14</td>\n",
       "      <td>&lt;NA&gt;</td>\n",
       "      <td>0</td>\n",
       "      <td>2</td>\n",
       "      <td>D</td>\n",
       "      <td>Driving</td>\n",
       "      <td>Amazon_Prime animated-AdventureTime</td>\n",
       "      <td>0</td>\n",
       "    </tr>\n",
       "    <tr>\n",
       "      <th>2019-11-28 07:27:59</th>\n",
       "      <td>1</td>\n",
       "      <td>5G</td>\n",
       "      <td>-102</td>\n",
       "      <td>-10</td>\n",
       "      <td>3</td>\n",
       "      <td>14</td>\n",
       "      <td>&lt;NA&gt;</td>\n",
       "      <td>3</td>\n",
       "      <td>2</td>\n",
       "      <td>D</td>\n",
       "      <td>Driving</td>\n",
       "      <td>Amazon_Prime animated-AdventureTime</td>\n",
       "      <td>0</td>\n",
       "    </tr>\n",
       "    <tr>\n",
       "      <th>2019-11-28 07:28:00</th>\n",
       "      <td>1</td>\n",
       "      <td>5G</td>\n",
       "      <td>-102</td>\n",
       "      <td>-10</td>\n",
       "      <td>3</td>\n",
       "      <td>14</td>\n",
       "      <td>&lt;NA&gt;</td>\n",
       "      <td>9</td>\n",
       "      <td>13</td>\n",
       "      <td>D</td>\n",
       "      <td>Driving</td>\n",
       "      <td>Amazon_Prime animated-AdventureTime</td>\n",
       "      <td>0</td>\n",
       "    </tr>\n",
       "    <tr>\n",
       "      <th>2019-11-28 07:28:01</th>\n",
       "      <td>1</td>\n",
       "      <td>5G</td>\n",
       "      <td>-103</td>\n",
       "      <td>-11</td>\n",
       "      <td>6</td>\n",
       "      <td>14</td>\n",
       "      <td>&lt;NA&gt;</td>\n",
       "      <td>926</td>\n",
       "      <td>93</td>\n",
       "      <td>D</td>\n",
       "      <td>Driving</td>\n",
       "      <td>Amazon_Prime animated-AdventureTime</td>\n",
       "      <td>0</td>\n",
       "    </tr>\n",
       "    <tr>\n",
       "      <th>...</th>\n",
       "      <td>...</td>\n",
       "      <td>...</td>\n",
       "      <td>...</td>\n",
       "      <td>...</td>\n",
       "      <td>...</td>\n",
       "      <td>...</td>\n",
       "      <td>...</td>\n",
       "      <td>...</td>\n",
       "      <td>...</td>\n",
       "      <td>...</td>\n",
       "      <td>...</td>\n",
       "      <td>...</td>\n",
       "      <td>...</td>\n",
       "    </tr>\n",
       "    <tr>\n",
       "      <th>2019-12-16 13:36:25</th>\n",
       "      <td>0</td>\n",
       "      <td>5G</td>\n",
       "      <td>-101</td>\n",
       "      <td>-13</td>\n",
       "      <td>-7</td>\n",
       "      <td>10</td>\n",
       "      <td>-85</td>\n",
       "      <td>1</td>\n",
       "      <td>69</td>\n",
       "      <td>D</td>\n",
       "      <td>Static</td>\n",
       "      <td>Netflix Season3-StrangerThings</td>\n",
       "      <td>82</td>\n",
       "    </tr>\n",
       "    <tr>\n",
       "      <th>2019-12-16 13:36:27</th>\n",
       "      <td>0</td>\n",
       "      <td>5G</td>\n",
       "      <td>-101</td>\n",
       "      <td>-13</td>\n",
       "      <td>-7</td>\n",
       "      <td>11</td>\n",
       "      <td>-88</td>\n",
       "      <td>0</td>\n",
       "      <td>11</td>\n",
       "      <td>D</td>\n",
       "      <td>Static</td>\n",
       "      <td>Netflix Season3-StrangerThings</td>\n",
       "      <td>82</td>\n",
       "    </tr>\n",
       "    <tr>\n",
       "      <th>2019-12-16 13:36:28</th>\n",
       "      <td>0</td>\n",
       "      <td>5G</td>\n",
       "      <td>-103</td>\n",
       "      <td>-12</td>\n",
       "      <td>5</td>\n",
       "      <td>11</td>\n",
       "      <td>-88</td>\n",
       "      <td>15</td>\n",
       "      <td>12</td>\n",
       "      <td>D</td>\n",
       "      <td>Static</td>\n",
       "      <td>Netflix Season3-StrangerThings</td>\n",
       "      <td>82</td>\n",
       "    </tr>\n",
       "    <tr>\n",
       "      <th>2019-12-16 13:36:29</th>\n",
       "      <td>0</td>\n",
       "      <td>5G</td>\n",
       "      <td>-103</td>\n",
       "      <td>-12</td>\n",
       "      <td>5</td>\n",
       "      <td>11</td>\n",
       "      <td>-88</td>\n",
       "      <td>4</td>\n",
       "      <td>8</td>\n",
       "      <td>D</td>\n",
       "      <td>Static</td>\n",
       "      <td>Netflix Season3-StrangerThings</td>\n",
       "      <td>82</td>\n",
       "    </tr>\n",
       "    <tr>\n",
       "      <th>2019-12-16 13:36:30</th>\n",
       "      <td>0</td>\n",
       "      <td>5G</td>\n",
       "      <td>-102</td>\n",
       "      <td>-12</td>\n",
       "      <td>-4</td>\n",
       "      <td>11</td>\n",
       "      <td>-88</td>\n",
       "      <td>0</td>\n",
       "      <td>11</td>\n",
       "      <td>D</td>\n",
       "      <td>Static</td>\n",
       "      <td>Netflix Season3-StrangerThings</td>\n",
       "      <td>82</td>\n",
       "    </tr>\n",
       "  </tbody>\n",
       "</table>\n",
       "<p>180743 rows × 13 columns</p>\n",
       "</div>"
      ],
      "text/plain": [
       "                     Speed NetworkMode  RSRP  RSRQ  SNR  CQI  RSSI  \\\n",
       "Timestamp                                                            \n",
       "2019-11-28 07:27:57      0          5G  -102   -10    8   14  <NA>   \n",
       "2019-11-28 07:27:58      1          5G  -102   -10    8   14  <NA>   \n",
       "2019-11-28 07:27:59      1          5G  -102   -10    3   14  <NA>   \n",
       "2019-11-28 07:28:00      1          5G  -102   -10    3   14  <NA>   \n",
       "2019-11-28 07:28:01      1          5G  -103   -11    6   14  <NA>   \n",
       "...                    ...         ...   ...   ...  ...  ...   ...   \n",
       "2019-12-16 13:36:25      0          5G  -101   -13   -7   10   -85   \n",
       "2019-12-16 13:36:27      0          5G  -101   -13   -7   11   -88   \n",
       "2019-12-16 13:36:28      0          5G  -103   -12    5   11   -88   \n",
       "2019-12-16 13:36:29      0          5G  -103   -12    5   11   -88   \n",
       "2019-12-16 13:36:30      0          5G  -102   -12   -4   11   -88   \n",
       "\n",
       "                     DL_bitrate  UL_bitrate State Mobility_Pattern  \\\n",
       "Timestamp                                                            \n",
       "2019-11-28 07:27:57           0           0     I          Driving   \n",
       "2019-11-28 07:27:58           0           2     D          Driving   \n",
       "2019-11-28 07:27:59           3           2     D          Driving   \n",
       "2019-11-28 07:28:00           9          13     D          Driving   \n",
       "2019-11-28 07:28:01         926          93     D          Driving   \n",
       "...                         ...         ...   ...              ...   \n",
       "2019-12-16 13:36:25           1          69     D           Static   \n",
       "2019-12-16 13:36:27           0          11     D           Static   \n",
       "2019-12-16 13:36:28          15          12     D           Static   \n",
       "2019-12-16 13:36:29           4           8     D           Static   \n",
       "2019-12-16 13:36:30           0          11     D           Static   \n",
       "\n",
       "                                           User_Activity  Log_Number  \n",
       "Timestamp                                                             \n",
       "2019-11-28 07:27:57  Amazon_Prime animated-AdventureTime           0  \n",
       "2019-11-28 07:27:58  Amazon_Prime animated-AdventureTime           0  \n",
       "2019-11-28 07:27:59  Amazon_Prime animated-AdventureTime           0  \n",
       "2019-11-28 07:28:00  Amazon_Prime animated-AdventureTime           0  \n",
       "2019-11-28 07:28:01  Amazon_Prime animated-AdventureTime           0  \n",
       "...                                                  ...         ...  \n",
       "2019-12-16 13:36:25       Netflix Season3-StrangerThings          82  \n",
       "2019-12-16 13:36:27       Netflix Season3-StrangerThings          82  \n",
       "2019-12-16 13:36:28       Netflix Season3-StrangerThings          82  \n",
       "2019-12-16 13:36:29       Netflix Season3-StrangerThings          82  \n",
       "2019-12-16 13:36:30       Netflix Season3-StrangerThings          82  \n",
       "\n",
       "[180743 rows x 13 columns]"
      ]
     },
     "execution_count": 278,
     "metadata": {},
     "output_type": "execute_result"
    }
   ],
   "source": [
    "cleaned"
   ]
  },
  {
   "cell_type": "markdown",
   "metadata": {},
   "source": [
    "# Handling Missing Data"
   ]
  },
  {
   "cell_type": "code",
   "execution_count": 303,
   "metadata": {},
   "outputs": [],
   "source": [
    "test_df = cleaned[cleaned.Log_Number == 5]"
   ]
  },
  {
   "cell_type": "code",
   "execution_count": 293,
   "metadata": {},
   "outputs": [],
   "source": [
    "# test_df = test_df.resample('1S').ffill()"
   ]
  },
  {
   "cell_type": "code",
   "execution_count": 312,
   "metadata": {},
   "outputs": [
    {
     "data": {
      "text/plain": [
       "<Axes: xlabel='Timestamp'>"
      ]
     },
     "execution_count": 312,
     "metadata": {},
     "output_type": "execute_result"
    },
    {
     "data": {
      "image/png": "[encoded data removed]",
      "text/plain": [
       "<Figure size 640x480 with 1 Axes>"
      ]
     },
     "metadata": {},
     "output_type": "display_data"
    }
   ],
   "source": [
    "# Reamostrar os dados para cada 1 segundo, mantendo o último valor conhecido\n",
    "test_df[\"SNR\"].bfill().plot()"
   ]
  },
  {
   "cell_type": "code",
   "execution_count": null,
   "metadata": {},
   "outputs": [
    {
     "name": "stderr",
     "output_type": "stream",
     "text": [
      "C:\\Users\\ejs-9\\AppData\\Local\\Temp\\ipykernel_7556\\862344753.py:1: SettingWithCopyWarning: \n",
      "A value is trying to be set on a copy of a slice from a DataFrame.\n",
      "Try using .loc[row_indexer,col_indexer] = value instead\n",
      "\n",
      "See the caveats in the documentation: https://pandas.pydata.org/pandas-docs/stable/user_guide/indexing.html#returning-a-view-versus-a-copy\n",
      "  test_df[\"shifted\"] = test_df[\"RSRQ\"].shift(1)\n",
      "C:\\Users\\ejs-9\\AppData\\Local\\Temp\\ipykernel_7556\\862344753.py:3: SettingWithCopyWarning: \n",
      "A value is trying to be set on a copy of a slice from a DataFrame.\n",
      "Try using .loc[row_indexer,col_indexer] = value instead\n",
      "\n",
      "See the caveats in the documentation: https://pandas.pydata.org/pandas-docs/stable/user_guide/indexing.html#returning-a-view-versus-a-copy\n",
      "  test_df[\"is_constant\"] = test_df[\"RSRQ\"] == test_df[\"shifted\"]\n",
      "C:\\Users\\ejs-9\\AppData\\Local\\Temp\\ipykernel_7556\\862344753.py:6: SettingWithCopyWarning: \n",
      "A value is trying to be set on a copy of a slice from a DataFrame.\n",
      "Try using .loc[row_indexer,col_indexer] = value instead\n",
      "\n",
      "See the caveats in the documentation: https://pandas.pydata.org/pandas-docs/stable/user_guide/indexing.html#returning-a-view-versus-a-copy\n",
      "  test_df[\"group\"] = test_df[\"is_constant\"].cumsum()\n"
     ]
    }
   ],
   "source": [
    "test_df[\"shifted\"] = test_df[\"RSRQ\"].shift(1)\n",
    "# display(df[column])\n",
    "test_df[\"is_constant\"] = test_df[\"RSRQ\"] == test_df[\"shifted\"]\n",
    "\n",
    "# # Encontrar grupos de constantes\n",
    "test_df[\"group\"] = test_df[\"is_constant\"].cumsum()\n",
    "\n",
    "# # Contar a duração de cada grupo\n",
    "# df['duration'] = df.groupby('group').cumcount() + 1\n",
    "\n",
    "# # Remover grupos que excedem a duração máxima permitida\n",
    "# df_filtered = df[(df['is_constant'] == False) | (df['duration'] <= max_duration)]\n",
    "\n",
    "# # Remover colunas auxiliares\n",
    "# df_filtered = df_filtered.drop(columns=['shifted', 'is_constant', 'group', 'duration'])"
   ]
  },
  {
   "cell_type": "code",
   "execution_count": 283,
   "metadata": {},
   "outputs": [
    {
     "ename": "KeyError",
     "evalue": "\"['Timestamp', 'shifted', 'is_constant', 'group'] not in index\"",
     "output_type": "error",
     "traceback": [
      "\u001b[1;31m---------------------------------------------------------------------------\u001b[0m",
      "\u001b[1;31mKeyError\u001b[0m                                  Traceback (most recent call last)",
      "Cell \u001b[1;32mIn[283], line 1\u001b[0m\n\u001b[1;32m----> 1\u001b[0m \u001b[43mtest_df\u001b[49m\u001b[43m[\u001b[49m\u001b[43m[\u001b[49m\u001b[38;5;124;43m\"\u001b[39;49m\u001b[38;5;124;43mTimestamp\u001b[39;49m\u001b[38;5;124;43m\"\u001b[39;49m\u001b[43m,\u001b[49m\u001b[38;5;124;43m\"\u001b[39;49m\u001b[38;5;124;43mRSRQ\u001b[39;49m\u001b[38;5;124;43m\"\u001b[39;49m\u001b[43m,\u001b[49m\u001b[43m \u001b[49m\u001b[38;5;124;43m\"\u001b[39;49m\u001b[38;5;124;43mshifted\u001b[39;49m\u001b[38;5;124;43m\"\u001b[39;49m\u001b[43m,\u001b[49m\u001b[43m \u001b[49m\u001b[38;5;124;43m\"\u001b[39;49m\u001b[38;5;124;43mis_constant\u001b[39;49m\u001b[38;5;124;43m\"\u001b[39;49m\u001b[43m,\u001b[49m\u001b[43m \u001b[49m\u001b[38;5;124;43m\"\u001b[39;49m\u001b[38;5;124;43mgroup\u001b[39;49m\u001b[38;5;124;43m\"\u001b[39;49m\u001b[43m]\u001b[49m\u001b[43m]\u001b[49m\n",
      "File \u001b[1;32mc:\\Users\\ejs-9\\anaconda3\\envs\\5g_nbeats\\Lib\\site-packages\\pandas\\core\\frame.py:3902\u001b[0m, in \u001b[0;36mDataFrame.__getitem__\u001b[1;34m(self, key)\u001b[0m\n\u001b[0;32m   3900\u001b[0m     \u001b[38;5;28;01mif\u001b[39;00m is_iterator(key):\n\u001b[0;32m   3901\u001b[0m         key \u001b[38;5;241m=\u001b[39m \u001b[38;5;28mlist\u001b[39m(key)\n\u001b[1;32m-> 3902\u001b[0m     indexer \u001b[38;5;241m=\u001b[39m \u001b[38;5;28;43mself\u001b[39;49m\u001b[38;5;241;43m.\u001b[39;49m\u001b[43mcolumns\u001b[49m\u001b[38;5;241;43m.\u001b[39;49m\u001b[43m_get_indexer_strict\u001b[49m\u001b[43m(\u001b[49m\u001b[43mkey\u001b[49m\u001b[43m,\u001b[49m\u001b[43m \u001b[49m\u001b[38;5;124;43m\"\u001b[39;49m\u001b[38;5;124;43mcolumns\u001b[39;49m\u001b[38;5;124;43m\"\u001b[39;49m\u001b[43m)\u001b[49m[\u001b[38;5;241m1\u001b[39m]\n\u001b[0;32m   3904\u001b[0m \u001b[38;5;66;03m# take() does not accept boolean indexers\u001b[39;00m\n\u001b[0;32m   3905\u001b[0m \u001b[38;5;28;01mif\u001b[39;00m \u001b[38;5;28mgetattr\u001b[39m(indexer, \u001b[38;5;124m\"\u001b[39m\u001b[38;5;124mdtype\u001b[39m\u001b[38;5;124m\"\u001b[39m, \u001b[38;5;28;01mNone\u001b[39;00m) \u001b[38;5;241m==\u001b[39m \u001b[38;5;28mbool\u001b[39m:\n",
      "File \u001b[1;32mc:\\Users\\ejs-9\\anaconda3\\envs\\5g_nbeats\\Lib\\site-packages\\pandas\\core\\indexes\\base.py:6114\u001b[0m, in \u001b[0;36mIndex._get_indexer_strict\u001b[1;34m(self, key, axis_name)\u001b[0m\n\u001b[0;32m   6111\u001b[0m \u001b[38;5;28;01melse\u001b[39;00m:\n\u001b[0;32m   6112\u001b[0m     keyarr, indexer, new_indexer \u001b[38;5;241m=\u001b[39m \u001b[38;5;28mself\u001b[39m\u001b[38;5;241m.\u001b[39m_reindex_non_unique(keyarr)\n\u001b[1;32m-> 6114\u001b[0m \u001b[38;5;28;43mself\u001b[39;49m\u001b[38;5;241;43m.\u001b[39;49m\u001b[43m_raise_if_missing\u001b[49m\u001b[43m(\u001b[49m\u001b[43mkeyarr\u001b[49m\u001b[43m,\u001b[49m\u001b[43m \u001b[49m\u001b[43mindexer\u001b[49m\u001b[43m,\u001b[49m\u001b[43m \u001b[49m\u001b[43maxis_name\u001b[49m\u001b[43m)\u001b[49m\n\u001b[0;32m   6116\u001b[0m keyarr \u001b[38;5;241m=\u001b[39m \u001b[38;5;28mself\u001b[39m\u001b[38;5;241m.\u001b[39mtake(indexer)\n\u001b[0;32m   6117\u001b[0m \u001b[38;5;28;01mif\u001b[39;00m \u001b[38;5;28misinstance\u001b[39m(key, Index):\n\u001b[0;32m   6118\u001b[0m     \u001b[38;5;66;03m# GH 42790 - Preserve name from an Index\u001b[39;00m\n",
      "File \u001b[1;32mc:\\Users\\ejs-9\\anaconda3\\envs\\5g_nbeats\\Lib\\site-packages\\pandas\\core\\indexes\\base.py:6178\u001b[0m, in \u001b[0;36mIndex._raise_if_missing\u001b[1;34m(self, key, indexer, axis_name)\u001b[0m\n\u001b[0;32m   6175\u001b[0m     \u001b[38;5;28;01mraise\u001b[39;00m \u001b[38;5;167;01mKeyError\u001b[39;00m(\u001b[38;5;124mf\u001b[39m\u001b[38;5;124m\"\u001b[39m\u001b[38;5;124mNone of [\u001b[39m\u001b[38;5;132;01m{\u001b[39;00mkey\u001b[38;5;132;01m}\u001b[39;00m\u001b[38;5;124m] are in the [\u001b[39m\u001b[38;5;132;01m{\u001b[39;00maxis_name\u001b[38;5;132;01m}\u001b[39;00m\u001b[38;5;124m]\u001b[39m\u001b[38;5;124m\"\u001b[39m)\n\u001b[0;32m   6177\u001b[0m not_found \u001b[38;5;241m=\u001b[39m \u001b[38;5;28mlist\u001b[39m(ensure_index(key)[missing_mask\u001b[38;5;241m.\u001b[39mnonzero()[\u001b[38;5;241m0\u001b[39m]]\u001b[38;5;241m.\u001b[39munique())\n\u001b[1;32m-> 6178\u001b[0m \u001b[38;5;28;01mraise\u001b[39;00m \u001b[38;5;167;01mKeyError\u001b[39;00m(\u001b[38;5;124mf\u001b[39m\u001b[38;5;124m\"\u001b[39m\u001b[38;5;132;01m{\u001b[39;00mnot_found\u001b[38;5;132;01m}\u001b[39;00m\u001b[38;5;124m not in index\u001b[39m\u001b[38;5;124m\"\u001b[39m)\n",
      "\u001b[1;31mKeyError\u001b[0m: \"['Timestamp', 'shifted', 'is_constant', 'group'] not in index\""
     ]
    }
   ],
   "source": [
    "test_df[[\"Timestamp\",\"RSRQ\", \"shifted\", \"is_constant\", \"group\"]]"
   ]
  },
  {
   "cell_type": "code",
   "execution_count": 284,
   "metadata": {},
   "outputs": [
    {
     "data": {
      "text/plain": [
       "<Axes: xlabel='Timestamp'>"
      ]
     },
     "execution_count": 284,
     "metadata": {},
     "output_type": "execute_result"
    },
    {
     "data": {
      "image/png": "[encoded data removed]",
      "text/plain": [
       "<Figure size 640x480 with 1 Axes>"
      ]
     },
     "metadata": {},
     "output_type": "display_data"
    }
   ],
   "source": [
    "test_df[\"RSRQ\"].plot()"
   ]
  },
  {
   "cell_type": "code",
   "execution_count": null,
   "metadata": {},
   "outputs": [],
   "source": []
  }
 ],
 "metadata": {
  "kernelspec": {
   "display_name": "5g_nbeats",
   "language": "python",
   "name": "python3"
  },
  "language_info": {
   "codemirror_mode": {
    "name": "ipython",
    "version": 3
   },
   "file_extension": ".py",
   "mimetype": "text/x-python",
   "name": "python",
   "nbconvert_exporter": "python",
   "pygments_lexer": "ipython3",
   "version": "3.12.0"
  }
 },
 "nbformat": 4,
 "nbformat_minor": 2
}
